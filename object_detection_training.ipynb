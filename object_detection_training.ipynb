{
  "nbformat": 4,
  "nbformat_minor": 0,
  "metadata": {
    "colab": {
      "name": "Untitled0.ipynb",
      "provenance": [],
      "collapsed_sections": [],
      "authorship_tag": "ABX9TyMBSMiVlq5EU5fKXlSZaLDG",
      "include_colab_link": true
    },
    "kernelspec": {
      "name": "python3",
      "display_name": "Python 3"
    },
    "language_info": {
      "name": "python"
    }
  },
  "cells": [
    {
      "cell_type": "markdown",
      "metadata": {
        "id": "view-in-github",
        "colab_type": "text"
      },
      "source": [
        "<a href=\"https://colab.research.google.com/github/fyousseff/youss/blob/master/object_detection_training.ipynb\" target=\"_parent\"><img src=\"https://colab.research.google.com/assets/colab-badge.svg\" alt=\"Open In Colab\"/></a>"
      ]
    },
    {
      "cell_type": "code",
      "metadata": {
        "id": "xPtQzslfLM8W"
      },
      "source": [
        "pip list"
      ],
      "execution_count": null,
      "outputs": []
    },
    {
      "cell_type": "code",
      "metadata": {
        "colab": {
          "base_uri": "https://localhost:8080/"
        },
        "id": "R7HlSlxeLQrT",
        "outputId": "cebf0160-ac8d-4278-b378-7dffd0593c65"
      },
      "source": [
        "!git clone https://github.com/tensorflow/models.git"
      ],
      "execution_count": 1,
      "outputs": [
        {
          "output_type": "stream",
          "name": "stdout",
          "text": [
            "Cloning into 'models'...\n",
            "remote: Enumerating objects: 62498, done.\u001b[K\n",
            "remote: Counting objects: 100% (29/29), done.\u001b[K\n",
            "remote: Compressing objects: 100% (29/29), done.\u001b[K\n",
            "remote: Total 62498 (delta 4), reused 14 (delta 0), pack-reused 62469\u001b[K\n",
            "Receiving objects: 100% (62498/62498), 574.47 MiB | 22.25 MiB/s, done.\n",
            "Resolving deltas: 100% (43532/43532), done.\n"
          ]
        }
      ]
    },
    {
      "cell_type": "code",
      "metadata": {
        "id": "oyPKc6vbFv6E"
      },
      "source": [
        ""
      ],
      "execution_count": null,
      "outputs": []
    },
    {
      "cell_type": "code",
      "metadata": {
        "colab": {
          "base_uri": "https://localhost:8080/"
        },
        "id": "PZdHvZBrMXMa",
        "outputId": "aa221a7d-3e99-40b7-c626-7429ca693fe7"
      },
      "source": [
        "cd /content/models/research"
      ],
      "execution_count": 3,
      "outputs": [
        {
          "output_type": "stream",
          "name": "stdout",
          "text": [
            "/content/models/research\n"
          ]
        }
      ]
    },
    {
      "cell_type": "code",
      "metadata": {
        "id": "CxIJIoGYNQow"
      },
      "source": [
        "!protoc object_detection/protos/*.proto --python_out=."
      ],
      "execution_count": 4,
      "outputs": []
    },
    {
      "cell_type": "code",
      "metadata": {
        "colab": {
          "base_uri": "https://localhost:8080/"
        },
        "id": "rHPxbE_uNRC_",
        "outputId": "ed28313a-e1ed-4a99-84eb-546d86afd88d"
      },
      "source": [
        "!git clone https://github.com/cocodataset/cocoapi.git\n"
      ],
      "execution_count": 5,
      "outputs": [
        {
          "output_type": "stream",
          "name": "stdout",
          "text": [
            "Cloning into 'cocoapi'...\n",
            "remote: Enumerating objects: 975, done.\u001b[K\n",
            "remote: Total 975 (delta 0), reused 0 (delta 0), pack-reused 975\u001b[K\n",
            "Receiving objects: 100% (975/975), 11.72 MiB | 27.10 MiB/s, done.\n",
            "Resolving deltas: 100% (576/576), done.\n"
          ]
        }
      ]
    },
    {
      "cell_type": "code",
      "metadata": {
        "colab": {
          "base_uri": "https://localhost:8080/"
        },
        "id": "rGIdbGZ1NSft",
        "outputId": "504ede88-32f9-4e45-8f64-9154f6fd381e"
      },
      "source": [
        "cd cocoapi/PythonAPI"
      ],
      "execution_count": 6,
      "outputs": [
        {
          "output_type": "stream",
          "name": "stdout",
          "text": [
            "/content/models/research/cocoapi/PythonAPI\n"
          ]
        }
      ]
    },
    {
      "cell_type": "code",
      "metadata": {
        "id": "kZVhYVXKNUUA",
        "colab": {
          "base_uri": "https://localhost:8080/"
        },
        "outputId": "32fcadf7-496d-430a-bf61-d517cb45b713"
      },
      "source": [
        "!make"
      ],
      "execution_count": 7,
      "outputs": [
        {
          "output_type": "stream",
          "name": "stdout",
          "text": [
            "python setup.py build_ext --inplace\n",
            "running build_ext\n",
            "cythoning pycocotools/_mask.pyx to pycocotools/_mask.c\n",
            "/usr/local/lib/python3.7/dist-packages/Cython/Compiler/Main.py:369: FutureWarning: Cython directive 'language_level' not set, using 2 for now (Py2). This will change in a later release! File: /content/models/research/cocoapi/PythonAPI/pycocotools/_mask.pyx\n",
            "  tree = Parsing.p_module(s, pxd, full_module_name)\n",
            "building 'pycocotools._mask' extension\n",
            "creating build\n",
            "creating build/common\n",
            "creating build/temp.linux-x86_64-3.7\n",
            "creating build/temp.linux-x86_64-3.7/pycocotools\n",
            "x86_64-linux-gnu-gcc -pthread -Wno-unused-result -Wsign-compare -DNDEBUG -g -fwrapv -O2 -Wall -g -fdebug-prefix-map=/build/python3.7-LSlbJj/python3.7-3.7.11=. -fstack-protector-strong -Wformat -Werror=format-security -g -fdebug-prefix-map=/build/python3.7-LSlbJj/python3.7-3.7.11=. -fstack-protector-strong -Wformat -Werror=format-security -Wdate-time -D_FORTIFY_SOURCE=2 -fPIC -I/usr/local/lib/python3.7/dist-packages/numpy/core/include -I../common -I/usr/include/python3.7m -c ../common/maskApi.c -o build/temp.linux-x86_64-3.7/../common/maskApi.o -Wno-cpp -Wno-unused-function -std=c99\n",
            "\u001b[01m\u001b[K../common/maskApi.c:\u001b[m\u001b[K In function ‘\u001b[01m\u001b[KrleDecode\u001b[m\u001b[K’:\n",
            "\u001b[01m\u001b[K../common/maskApi.c:46:7:\u001b[m\u001b[K \u001b[01;35m\u001b[Kwarning: \u001b[m\u001b[Kthis ‘\u001b[01m\u001b[Kfor\u001b[m\u001b[K’ clause does not guard... [\u001b[01;35m\u001b[K-Wmisleading-indentation\u001b[m\u001b[K]\n",
            "       \u001b[01;35m\u001b[Kfor\u001b[m\u001b[K( k=0; k<R[i].cnts[j]; k++ ) *(M++)=v; v=!v; }}\n",
            "       \u001b[01;35m\u001b[K^~~\u001b[m\u001b[K\n",
            "\u001b[01m\u001b[K../common/maskApi.c:46:49:\u001b[m\u001b[K \u001b[01;36m\u001b[Knote: \u001b[m\u001b[K...this statement, but the latter is misleadingly indented as if it were guarded by the ‘\u001b[01m\u001b[Kfor\u001b[m\u001b[K’\n",
            "       for( k=0; k<R[i].cnts[j]; k++ ) *(M++)=v; \u001b[01;36m\u001b[Kv\u001b[m\u001b[K=!v; }}\n",
            "                                                 \u001b[01;36m\u001b[K^\u001b[m\u001b[K\n",
            "\u001b[01m\u001b[K../common/maskApi.c:\u001b[m\u001b[K In function ‘\u001b[01m\u001b[KrleFrPoly\u001b[m\u001b[K’:\n",
            "\u001b[01m\u001b[K../common/maskApi.c:166:3:\u001b[m\u001b[K \u001b[01;35m\u001b[Kwarning: \u001b[m\u001b[Kthis ‘\u001b[01m\u001b[Kfor\u001b[m\u001b[K’ clause does not guard... [\u001b[01;35m\u001b[K-Wmisleading-indentation\u001b[m\u001b[K]\n",
            "   \u001b[01;35m\u001b[Kfor\u001b[m\u001b[K(j=0; j<k; j++) x[j]=(int)(scale*xy[j*2+0]+.5); x[k]=x[0];\n",
            "   \u001b[01;35m\u001b[K^~~\u001b[m\u001b[K\n",
            "\u001b[01m\u001b[K../common/maskApi.c:166:54:\u001b[m\u001b[K \u001b[01;36m\u001b[Knote: \u001b[m\u001b[K...this statement, but the latter is misleadingly indented as if it were guarded by the ‘\u001b[01m\u001b[Kfor\u001b[m\u001b[K’\n",
            "   for(j=0; j<k; j++) x[j]=(int)(scale*xy[j*2+0]+.5); \u001b[01;36m\u001b[Kx\u001b[m\u001b[K[k]=x[0];\n",
            "                                                      \u001b[01;36m\u001b[K^\u001b[m\u001b[K\n",
            "\u001b[01m\u001b[K../common/maskApi.c:167:3:\u001b[m\u001b[K \u001b[01;35m\u001b[Kwarning: \u001b[m\u001b[Kthis ‘\u001b[01m\u001b[Kfor\u001b[m\u001b[K’ clause does not guard... [\u001b[01;35m\u001b[K-Wmisleading-indentation\u001b[m\u001b[K]\n",
            "   \u001b[01;35m\u001b[Kfor\u001b[m\u001b[K(j=0; j<k; j++) y[j]=(int)(scale*xy[j*2+1]+.5); y[k]=y[0];\n",
            "   \u001b[01;35m\u001b[K^~~\u001b[m\u001b[K\n",
            "\u001b[01m\u001b[K../common/maskApi.c:167:54:\u001b[m\u001b[K \u001b[01;36m\u001b[Knote: \u001b[m\u001b[K...this statement, but the latter is misleadingly indented as if it were guarded by the ‘\u001b[01m\u001b[Kfor\u001b[m\u001b[K’\n",
            "   for(j=0; j<k; j++) y[j]=(int)(scale*xy[j*2+1]+.5); \u001b[01;36m\u001b[Ky\u001b[m\u001b[K[k]=y[0];\n",
            "                                                      \u001b[01;36m\u001b[K^\u001b[m\u001b[K\n",
            "\u001b[01m\u001b[K../common/maskApi.c:\u001b[m\u001b[K In function ‘\u001b[01m\u001b[KrleToString\u001b[m\u001b[K’:\n",
            "\u001b[01m\u001b[K../common/maskApi.c:212:7:\u001b[m\u001b[K \u001b[01;35m\u001b[Kwarning: \u001b[m\u001b[Kthis ‘\u001b[01m\u001b[Kif\u001b[m\u001b[K’ clause does not guard... [\u001b[01;35m\u001b[K-Wmisleading-indentation\u001b[m\u001b[K]\n",
            "       \u001b[01;35m\u001b[Kif\u001b[m\u001b[K(more) c |= 0x20; c+=48; s[p++]=c;\n",
            "       \u001b[01;35m\u001b[K^~\u001b[m\u001b[K\n",
            "\u001b[01m\u001b[K../common/maskApi.c:212:27:\u001b[m\u001b[K \u001b[01;36m\u001b[Knote: \u001b[m\u001b[K...this statement, but the latter is misleadingly indented as if it were guarded by the ‘\u001b[01m\u001b[Kif\u001b[m\u001b[K’\n",
            "       if(more) c |= 0x20; \u001b[01;36m\u001b[Kc\u001b[m\u001b[K+=48; s[p++]=c;\n",
            "                           \u001b[01;36m\u001b[K^\u001b[m\u001b[K\n",
            "\u001b[01m\u001b[K../common/maskApi.c:\u001b[m\u001b[K In function ‘\u001b[01m\u001b[KrleFrString\u001b[m\u001b[K’:\n",
            "\u001b[01m\u001b[K../common/maskApi.c:220:3:\u001b[m\u001b[K \u001b[01;35m\u001b[Kwarning: \u001b[m\u001b[Kthis ‘\u001b[01m\u001b[Kwhile\u001b[m\u001b[K’ clause does not guard... [\u001b[01;35m\u001b[K-Wmisleading-indentation\u001b[m\u001b[K]\n",
            "   \u001b[01;35m\u001b[Kwhile\u001b[m\u001b[K( s[m] ) m++; cnts=malloc(sizeof(uint)*m); m=0;\n",
            "   \u001b[01;35m\u001b[K^~~~~\u001b[m\u001b[K\n",
            "\u001b[01m\u001b[K../common/maskApi.c:220:22:\u001b[m\u001b[K \u001b[01;36m\u001b[Knote: \u001b[m\u001b[K...this statement, but the latter is misleadingly indented as if it were guarded by the ‘\u001b[01m\u001b[Kwhile\u001b[m\u001b[K’\n",
            "   while( s[m] ) m++; \u001b[01;36m\u001b[Kcnts\u001b[m\u001b[K=malloc(sizeof(uint)*m); m=0;\n",
            "                      \u001b[01;36m\u001b[K^~~~\u001b[m\u001b[K\n",
            "\u001b[01m\u001b[K../common/maskApi.c:228:5:\u001b[m\u001b[K \u001b[01;35m\u001b[Kwarning: \u001b[m\u001b[Kthis ‘\u001b[01m\u001b[Kif\u001b[m\u001b[K’ clause does not guard... [\u001b[01;35m\u001b[K-Wmisleading-indentation\u001b[m\u001b[K]\n",
            "     \u001b[01;35m\u001b[Kif\u001b[m\u001b[K(m>2) x+=(long) cnts[m-2]; cnts[m++]=(uint) x;\n",
            "     \u001b[01;35m\u001b[K^~\u001b[m\u001b[K\n",
            "\u001b[01m\u001b[K../common/maskApi.c:228:34:\u001b[m\u001b[K \u001b[01;36m\u001b[Knote: \u001b[m\u001b[K...this statement, but the latter is misleadingly indented as if it were guarded by the ‘\u001b[01m\u001b[Kif\u001b[m\u001b[K’\n",
            "     if(m>2) x+=(long) cnts[m-2]; \u001b[01;36m\u001b[Kcnts\u001b[m\u001b[K[m++]=(uint) x;\n",
            "                                  \u001b[01;36m\u001b[K^~~~\u001b[m\u001b[K\n",
            "\u001b[01m\u001b[K../common/maskApi.c:\u001b[m\u001b[K In function ‘\u001b[01m\u001b[KrleToBbox\u001b[m\u001b[K’:\n",
            "\u001b[01m\u001b[K../common/maskApi.c:141:31:\u001b[m\u001b[K \u001b[01;35m\u001b[Kwarning: \u001b[m\u001b[K‘\u001b[01m\u001b[Kxp\u001b[m\u001b[K’ may be used uninitialized in this function [\u001b[01;35m\u001b[K-Wmaybe-uninitialized\u001b[m\u001b[K]\n",
            "       if(j%2==0) xp=x; else if\u001b[01;35m\u001b[K(\u001b[m\u001b[Kxp<x) { ys=0; ye=h-1; }\n",
            "                               \u001b[01;35m\u001b[K^\u001b[m\u001b[K\n",
            "x86_64-linux-gnu-gcc -pthread -Wno-unused-result -Wsign-compare -DNDEBUG -g -fwrapv -O2 -Wall -g -fdebug-prefix-map=/build/python3.7-LSlbJj/python3.7-3.7.11=. -fstack-protector-strong -Wformat -Werror=format-security -g -fdebug-prefix-map=/build/python3.7-LSlbJj/python3.7-3.7.11=. -fstack-protector-strong -Wformat -Werror=format-security -Wdate-time -D_FORTIFY_SOURCE=2 -fPIC -I/usr/local/lib/python3.7/dist-packages/numpy/core/include -I../common -I/usr/include/python3.7m -c pycocotools/_mask.c -o build/temp.linux-x86_64-3.7/pycocotools/_mask.o -Wno-cpp -Wno-unused-function -std=c99\n",
            "creating build/lib.linux-x86_64-3.7\n",
            "creating build/lib.linux-x86_64-3.7/pycocotools\n",
            "x86_64-linux-gnu-gcc -pthread -shared -Wl,-O1 -Wl,-Bsymbolic-functions -Wl,-Bsymbolic-functions -Wl,-z,relro -Wl,-Bsymbolic-functions -Wl,-z,relro -g -fdebug-prefix-map=/build/python3.7-LSlbJj/python3.7-3.7.11=. -fstack-protector-strong -Wformat -Werror=format-security -Wdate-time -D_FORTIFY_SOURCE=2 build/temp.linux-x86_64-3.7/../common/maskApi.o build/temp.linux-x86_64-3.7/pycocotools/_mask.o -o build/lib.linux-x86_64-3.7/pycocotools/_mask.cpython-37m-x86_64-linux-gnu.so\n",
            "copying build/lib.linux-x86_64-3.7/pycocotools/_mask.cpython-37m-x86_64-linux-gnu.so -> pycocotools\n",
            "rm -rf build\n"
          ]
        }
      ]
    },
    {
      "cell_type": "code",
      "metadata": {
        "id": "hbMRVcY7NV_g"
      },
      "source": [
        "cp -r pycocotools /content/models/research"
      ],
      "execution_count": 8,
      "outputs": []
    },
    {
      "cell_type": "code",
      "metadata": {
        "colab": {
          "base_uri": "https://localhost:8080/"
        },
        "id": "HzPFTvflNatO",
        "outputId": "91483584-3497-46ed-cee3-aeb95b5c0b90"
      },
      "source": [
        "cd .."
      ],
      "execution_count": 10,
      "outputs": [
        {
          "output_type": "stream",
          "name": "stdout",
          "text": [
            "/content/models/research\n"
          ]
        }
      ]
    },
    {
      "cell_type": "code",
      "metadata": {
        "id": "GIsePVSmNeQR"
      },
      "source": [
        "cp object_detection/packages/tf2/setup.py ."
      ],
      "execution_count": 11,
      "outputs": []
    },
    {
      "cell_type": "code",
      "metadata": {
        "id": "nFD3EiyJNkIj",
        "colab": {
          "base_uri": "https://localhost:8080/"
        },
        "outputId": "e4ba511a-a187-40e2-cf7d-2082ab338893"
      },
      "source": [
        "!python -m pip install ."
      ],
      "execution_count": 12,
      "outputs": [
        {
          "output_type": "stream",
          "name": "stdout",
          "text": [
            "Processing /content/models/research\n",
            "\u001b[33m  DEPRECATION: A future pip version will change local packages to be built in-place without first copying to a temporary directory. We recommend you use --use-feature=in-tree-build to test your packages with this new behavior before it becomes the default.\n",
            "   pip 21.3 will remove support for this functionality. You can find discussion regarding this at https://github.com/pypa/pip/issues/7555.\u001b[0m\n",
            "Collecting avro-python3\n",
            "  Downloading avro-python3-1.10.2.tar.gz (38 kB)\n",
            "Collecting apache-beam\n",
            "  Downloading apache_beam-2.32.0-cp37-cp37m-manylinux2010_x86_64.whl (9.8 MB)\n",
            "\u001b[K     |████████████████████████████████| 9.8 MB 6.0 MB/s \n",
            "\u001b[?25hRequirement already satisfied: pillow in /usr/local/lib/python3.7/dist-packages (from object-detection==0.1) (7.1.2)\n",
            "Requirement already satisfied: lxml in /usr/local/lib/python3.7/dist-packages (from object-detection==0.1) (4.2.6)\n",
            "Requirement already satisfied: matplotlib in /usr/local/lib/python3.7/dist-packages (from object-detection==0.1) (3.2.2)\n",
            "Requirement already satisfied: Cython in /usr/local/lib/python3.7/dist-packages (from object-detection==0.1) (0.29.24)\n",
            "Requirement already satisfied: contextlib2 in /usr/local/lib/python3.7/dist-packages (from object-detection==0.1) (0.5.5)\n",
            "Collecting tf-slim\n",
            "  Downloading tf_slim-1.1.0-py2.py3-none-any.whl (352 kB)\n",
            "\u001b[K     |████████████████████████████████| 352 kB 51.7 MB/s \n",
            "\u001b[?25hRequirement already satisfied: six in /usr/local/lib/python3.7/dist-packages (from object-detection==0.1) (1.15.0)\n",
            "Requirement already satisfied: pycocotools in /usr/local/lib/python3.7/dist-packages (from object-detection==0.1) (2.0.2)\n",
            "Collecting lvis\n",
            "  Downloading lvis-0.5.3-py3-none-any.whl (14 kB)\n",
            "Requirement already satisfied: scipy in /usr/local/lib/python3.7/dist-packages (from object-detection==0.1) (1.4.1)\n",
            "Requirement already satisfied: pandas in /usr/local/lib/python3.7/dist-packages (from object-detection==0.1) (1.1.5)\n",
            "Collecting tf-models-official>=2.5.1\n",
            "  Downloading tf_models_official-2.6.0-py2.py3-none-any.whl (1.8 MB)\n",
            "\u001b[K     |████████████████████████████████| 1.8 MB 31.0 MB/s \n",
            "\u001b[?25hRequirement already satisfied: gin-config in /usr/local/lib/python3.7/dist-packages (from tf-models-official>=2.5.1->object-detection==0.1) (0.4.0)\n",
            "Collecting py-cpuinfo>=3.3.0\n",
            "  Downloading py-cpuinfo-8.0.0.tar.gz (99 kB)\n",
            "\u001b[K     |████████████████████████████████| 99 kB 8.6 MB/s \n",
            "\u001b[?25hRequirement already satisfied: google-api-python-client>=1.6.7 in /usr/local/lib/python3.7/dist-packages (from tf-models-official>=2.5.1->object-detection==0.1) (1.12.8)\n",
            "Requirement already satisfied: numpy>=1.15.4 in /usr/local/lib/python3.7/dist-packages (from tf-models-official>=2.5.1->object-detection==0.1) (1.19.5)\n",
            "Requirement already satisfied: tensorflow>=2.5.0 in /usr/local/lib/python3.7/dist-packages (from tf-models-official>=2.5.1->object-detection==0.1) (2.6.0)\n",
            "Collecting seqeval\n",
            "  Downloading seqeval-1.2.2.tar.gz (43 kB)\n",
            "\u001b[K     |████████████████████████████████| 43 kB 1.7 MB/s \n",
            "\u001b[?25hCollecting opencv-python-headless\n",
            "  Downloading opencv_python_headless-4.5.3.56-cp37-cp37m-manylinux2014_x86_64.whl (37.1 MB)\n",
            "\u001b[K     |████████████████████████████████| 37.1 MB 48 kB/s \n",
            "\u001b[?25hCollecting tensorflow-text>=2.5.0\n",
            "  Downloading tensorflow_text-2.6.0-cp37-cp37m-manylinux1_x86_64.whl (4.4 MB)\n",
            "\u001b[K     |████████████████████████████████| 4.4 MB 26.7 MB/s \n",
            "\u001b[?25hRequirement already satisfied: oauth2client in /usr/local/lib/python3.7/dist-packages (from tf-models-official>=2.5.1->object-detection==0.1) (4.1.3)\n",
            "Collecting sacrebleu\n",
            "  Downloading sacrebleu-2.0.0-py3-none-any.whl (90 kB)\n",
            "\u001b[K     |████████████████████████████████| 90 kB 9.2 MB/s \n",
            "\u001b[?25hRequirement already satisfied: psutil>=5.4.3 in /usr/local/lib/python3.7/dist-packages (from tf-models-official>=2.5.1->object-detection==0.1) (5.4.8)\n",
            "Collecting tensorflow-addons\n",
            "  Downloading tensorflow_addons-0.14.0-cp37-cp37m-manylinux_2_12_x86_64.manylinux2010_x86_64.whl (1.1 MB)\n",
            "\u001b[K     |████████████████████████████████| 1.1 MB 54.4 MB/s \n",
            "\u001b[?25hCollecting sentencepiece\n",
            "  Downloading sentencepiece-0.1.96-cp37-cp37m-manylinux_2_17_x86_64.manylinux2014_x86_64.whl (1.2 MB)\n",
            "\u001b[K     |████████████████████████████████| 1.2 MB 52.1 MB/s \n",
            "\u001b[?25hCollecting tensorflow-model-optimization>=0.4.1\n",
            "  Downloading tensorflow_model_optimization-0.6.0-py2.py3-none-any.whl (211 kB)\n",
            "\u001b[K     |████████████████████████████████| 211 kB 69.2 MB/s \n",
            "\u001b[?25hCollecting pyyaml>=5.1\n",
            "  Downloading PyYAML-5.4.1-cp37-cp37m-manylinux1_x86_64.whl (636 kB)\n",
            "\u001b[K     |████████████████████████████████| 636 kB 51.6 MB/s \n",
            "\u001b[?25hRequirement already satisfied: tensorflow-hub>=0.6.0 in /usr/local/lib/python3.7/dist-packages (from tf-models-official>=2.5.1->object-detection==0.1) (0.12.0)\n",
            "Requirement already satisfied: tensorflow-datasets in /usr/local/lib/python3.7/dist-packages (from tf-models-official>=2.5.1->object-detection==0.1) (4.0.1)\n",
            "Requirement already satisfied: kaggle>=1.3.9 in /usr/local/lib/python3.7/dist-packages (from tf-models-official>=2.5.1->object-detection==0.1) (1.5.12)\n",
            "Requirement already satisfied: google-auth-httplib2>=0.0.3 in /usr/local/lib/python3.7/dist-packages (from google-api-python-client>=1.6.7->tf-models-official>=2.5.1->object-detection==0.1) (0.0.4)\n",
            "Requirement already satisfied: httplib2<1dev,>=0.15.0 in /usr/local/lib/python3.7/dist-packages (from google-api-python-client>=1.6.7->tf-models-official>=2.5.1->object-detection==0.1) (0.17.4)\n",
            "Requirement already satisfied: google-auth>=1.16.0 in /usr/local/lib/python3.7/dist-packages (from google-api-python-client>=1.6.7->tf-models-official>=2.5.1->object-detection==0.1) (1.34.0)\n",
            "Requirement already satisfied: uritemplate<4dev,>=3.0.0 in /usr/local/lib/python3.7/dist-packages (from google-api-python-client>=1.6.7->tf-models-official>=2.5.1->object-detection==0.1) (3.0.1)\n",
            "Requirement already satisfied: google-api-core<2dev,>=1.21.0 in /usr/local/lib/python3.7/dist-packages (from google-api-python-client>=1.6.7->tf-models-official>=2.5.1->object-detection==0.1) (1.26.3)\n",
            "Requirement already satisfied: requests<3.0.0dev,>=2.18.0 in /usr/local/lib/python3.7/dist-packages (from google-api-core<2dev,>=1.21.0->google-api-python-client>=1.6.7->tf-models-official>=2.5.1->object-detection==0.1) (2.23.0)\n",
            "Requirement already satisfied: packaging>=14.3 in /usr/local/lib/python3.7/dist-packages (from google-api-core<2dev,>=1.21.0->google-api-python-client>=1.6.7->tf-models-official>=2.5.1->object-detection==0.1) (21.0)\n",
            "Requirement already satisfied: googleapis-common-protos<2.0dev,>=1.6.0 in /usr/local/lib/python3.7/dist-packages (from google-api-core<2dev,>=1.21.0->google-api-python-client>=1.6.7->tf-models-official>=2.5.1->object-detection==0.1) (1.53.0)\n",
            "Requirement already satisfied: pytz in /usr/local/lib/python3.7/dist-packages (from google-api-core<2dev,>=1.21.0->google-api-python-client>=1.6.7->tf-models-official>=2.5.1->object-detection==0.1) (2018.9)\n",
            "Requirement already satisfied: setuptools>=40.3.0 in /usr/local/lib/python3.7/dist-packages (from google-api-core<2dev,>=1.21.0->google-api-python-client>=1.6.7->tf-models-official>=2.5.1->object-detection==0.1) (57.4.0)\n",
            "Requirement already satisfied: protobuf>=3.12.0 in /usr/local/lib/python3.7/dist-packages (from google-api-core<2dev,>=1.21.0->google-api-python-client>=1.6.7->tf-models-official>=2.5.1->object-detection==0.1) (3.17.3)\n",
            "Requirement already satisfied: rsa<5,>=3.1.4 in /usr/local/lib/python3.7/dist-packages (from google-auth>=1.16.0->google-api-python-client>=1.6.7->tf-models-official>=2.5.1->object-detection==0.1) (4.7.2)\n",
            "Requirement already satisfied: pyasn1-modules>=0.2.1 in /usr/local/lib/python3.7/dist-packages (from google-auth>=1.16.0->google-api-python-client>=1.6.7->tf-models-official>=2.5.1->object-detection==0.1) (0.2.8)\n",
            "Requirement already satisfied: cachetools<5.0,>=2.0.0 in /usr/local/lib/python3.7/dist-packages (from google-auth>=1.16.0->google-api-python-client>=1.6.7->tf-models-official>=2.5.1->object-detection==0.1) (4.2.2)\n",
            "Requirement already satisfied: urllib3 in /usr/local/lib/python3.7/dist-packages (from kaggle>=1.3.9->tf-models-official>=2.5.1->object-detection==0.1) (1.24.3)\n",
            "Requirement already satisfied: python-slugify in /usr/local/lib/python3.7/dist-packages (from kaggle>=1.3.9->tf-models-official>=2.5.1->object-detection==0.1) (5.0.2)\n",
            "Requirement already satisfied: certifi in /usr/local/lib/python3.7/dist-packages (from kaggle>=1.3.9->tf-models-official>=2.5.1->object-detection==0.1) (2021.5.30)\n",
            "Requirement already satisfied: tqdm in /usr/local/lib/python3.7/dist-packages (from kaggle>=1.3.9->tf-models-official>=2.5.1->object-detection==0.1) (4.62.0)\n",
            "Requirement already satisfied: python-dateutil in /usr/local/lib/python3.7/dist-packages (from kaggle>=1.3.9->tf-models-official>=2.5.1->object-detection==0.1) (2.8.2)\n",
            "Requirement already satisfied: pyparsing>=2.0.2 in /usr/local/lib/python3.7/dist-packages (from packaging>=14.3->google-api-core<2dev,>=1.21.0->google-api-python-client>=1.6.7->tf-models-official>=2.5.1->object-detection==0.1) (2.4.7)\n",
            "Requirement already satisfied: pyasn1<0.5.0,>=0.4.6 in /usr/local/lib/python3.7/dist-packages (from pyasn1-modules>=0.2.1->google-auth>=1.16.0->google-api-python-client>=1.6.7->tf-models-official>=2.5.1->object-detection==0.1) (0.4.8)\n",
            "Requirement already satisfied: idna<3,>=2.5 in /usr/local/lib/python3.7/dist-packages (from requests<3.0.0dev,>=2.18.0->google-api-core<2dev,>=1.21.0->google-api-python-client>=1.6.7->tf-models-official>=2.5.1->object-detection==0.1) (2.10)\n",
            "Requirement already satisfied: chardet<4,>=3.0.2 in /usr/local/lib/python3.7/dist-packages (from requests<3.0.0dev,>=2.18.0->google-api-core<2dev,>=1.21.0->google-api-python-client>=1.6.7->tf-models-official>=2.5.1->object-detection==0.1) (3.0.4)\n",
            "Requirement already satisfied: tensorflow-estimator~=2.6 in /usr/local/lib/python3.7/dist-packages (from tensorflow>=2.5.0->tf-models-official>=2.5.1->object-detection==0.1) (2.6.0)\n",
            "Requirement already satisfied: termcolor~=1.1.0 in /usr/local/lib/python3.7/dist-packages (from tensorflow>=2.5.0->tf-models-official>=2.5.1->object-detection==0.1) (1.1.0)\n",
            "Requirement already satisfied: absl-py~=0.10 in /usr/local/lib/python3.7/dist-packages (from tensorflow>=2.5.0->tf-models-official>=2.5.1->object-detection==0.1) (0.12.0)\n",
            "Requirement already satisfied: keras-preprocessing~=1.1.2 in /usr/local/lib/python3.7/dist-packages (from tensorflow>=2.5.0->tf-models-official>=2.5.1->object-detection==0.1) (1.1.2)\n",
            "Requirement already satisfied: gast==0.4.0 in /usr/local/lib/python3.7/dist-packages (from tensorflow>=2.5.0->tf-models-official>=2.5.1->object-detection==0.1) (0.4.0)\n",
            "Requirement already satisfied: tensorboard~=2.6 in /usr/local/lib/python3.7/dist-packages (from tensorflow>=2.5.0->tf-models-official>=2.5.1->object-detection==0.1) (2.6.0)\n",
            "Requirement already satisfied: google-pasta~=0.2 in /usr/local/lib/python3.7/dist-packages (from tensorflow>=2.5.0->tf-models-official>=2.5.1->object-detection==0.1) (0.2.0)\n",
            "Requirement already satisfied: grpcio<2.0,>=1.37.0 in /usr/local/lib/python3.7/dist-packages (from tensorflow>=2.5.0->tf-models-official>=2.5.1->object-detection==0.1) (1.39.0)\n",
            "Requirement already satisfied: wheel~=0.35 in /usr/local/lib/python3.7/dist-packages (from tensorflow>=2.5.0->tf-models-official>=2.5.1->object-detection==0.1) (0.37.0)\n",
            "Requirement already satisfied: h5py~=3.1.0 in /usr/local/lib/python3.7/dist-packages (from tensorflow>=2.5.0->tf-models-official>=2.5.1->object-detection==0.1) (3.1.0)\n",
            "Requirement already satisfied: flatbuffers~=1.12.0 in /usr/local/lib/python3.7/dist-packages (from tensorflow>=2.5.0->tf-models-official>=2.5.1->object-detection==0.1) (1.12)\n",
            "Requirement already satisfied: keras~=2.6 in /usr/local/lib/python3.7/dist-packages (from tensorflow>=2.5.0->tf-models-official>=2.5.1->object-detection==0.1) (2.6.0)\n",
            "Requirement already satisfied: opt-einsum~=3.3.0 in /usr/local/lib/python3.7/dist-packages (from tensorflow>=2.5.0->tf-models-official>=2.5.1->object-detection==0.1) (3.3.0)\n",
            "Requirement already satisfied: clang~=5.0 in /usr/local/lib/python3.7/dist-packages (from tensorflow>=2.5.0->tf-models-official>=2.5.1->object-detection==0.1) (5.0)\n",
            "Requirement already satisfied: wrapt~=1.12.1 in /usr/local/lib/python3.7/dist-packages (from tensorflow>=2.5.0->tf-models-official>=2.5.1->object-detection==0.1) (1.12.1)\n",
            "Requirement already satisfied: astunparse~=1.6.3 in /usr/local/lib/python3.7/dist-packages (from tensorflow>=2.5.0->tf-models-official>=2.5.1->object-detection==0.1) (1.6.3)\n",
            "Requirement already satisfied: typing-extensions~=3.7.4 in /usr/local/lib/python3.7/dist-packages (from tensorflow>=2.5.0->tf-models-official>=2.5.1->object-detection==0.1) (3.7.4.3)\n",
            "Requirement already satisfied: cached-property in /usr/local/lib/python3.7/dist-packages (from h5py~=3.1.0->tensorflow>=2.5.0->tf-models-official>=2.5.1->object-detection==0.1) (1.5.2)\n",
            "Requirement already satisfied: werkzeug>=0.11.15 in /usr/local/lib/python3.7/dist-packages (from tensorboard~=2.6->tensorflow>=2.5.0->tf-models-official>=2.5.1->object-detection==0.1) (1.0.1)\n",
            "Requirement already satisfied: markdown>=2.6.8 in /usr/local/lib/python3.7/dist-packages (from tensorboard~=2.6->tensorflow>=2.5.0->tf-models-official>=2.5.1->object-detection==0.1) (3.3.4)\n",
            "Requirement already satisfied: tensorboard-plugin-wit>=1.6.0 in /usr/local/lib/python3.7/dist-packages (from tensorboard~=2.6->tensorflow>=2.5.0->tf-models-official>=2.5.1->object-detection==0.1) (1.8.0)\n",
            "Requirement already satisfied: google-auth-oauthlib<0.5,>=0.4.1 in /usr/local/lib/python3.7/dist-packages (from tensorboard~=2.6->tensorflow>=2.5.0->tf-models-official>=2.5.1->object-detection==0.1) (0.4.5)\n",
            "Requirement already satisfied: tensorboard-data-server<0.7.0,>=0.6.0 in /usr/local/lib/python3.7/dist-packages (from tensorboard~=2.6->tensorflow>=2.5.0->tf-models-official>=2.5.1->object-detection==0.1) (0.6.1)\n",
            "Requirement already satisfied: requests-oauthlib>=0.7.0 in /usr/local/lib/python3.7/dist-packages (from google-auth-oauthlib<0.5,>=0.4.1->tensorboard~=2.6->tensorflow>=2.5.0->tf-models-official>=2.5.1->object-detection==0.1) (1.3.0)\n",
            "Requirement already satisfied: importlib-metadata in /usr/local/lib/python3.7/dist-packages (from markdown>=2.6.8->tensorboard~=2.6->tensorflow>=2.5.0->tf-models-official>=2.5.1->object-detection==0.1) (4.6.4)\n",
            "Requirement already satisfied: oauthlib>=3.0.0 in /usr/local/lib/python3.7/dist-packages (from requests-oauthlib>=0.7.0->google-auth-oauthlib<0.5,>=0.4.1->tensorboard~=2.6->tensorflow>=2.5.0->tf-models-official>=2.5.1->object-detection==0.1) (3.1.1)\n",
            "Requirement already satisfied: dm-tree~=0.1.1 in /usr/local/lib/python3.7/dist-packages (from tensorflow-model-optimization>=0.4.1->tf-models-official>=2.5.1->object-detection==0.1) (0.1.6)\n",
            "Requirement already satisfied: pyarrow<5.0.0,>=0.15.1 in /usr/local/lib/python3.7/dist-packages (from apache-beam->object-detection==0.1) (3.0.0)\n",
            "Collecting hdfs<3.0.0,>=2.1.0\n",
            "  Downloading hdfs-2.6.0-py3-none-any.whl (33 kB)\n",
            "Requirement already satisfied: crcmod<2.0,>=1.7 in /usr/local/lib/python3.7/dist-packages (from apache-beam->object-detection==0.1) (1.7)\n",
            "Collecting orjson<4.0\n",
            "  Downloading orjson-3.6.3-cp37-cp37m-manylinux_2_24_x86_64.whl (234 kB)\n",
            "\u001b[K     |████████████████████████████████| 234 kB 49.6 MB/s \n",
            "\u001b[?25hCollecting future<1.0.0,>=0.18.2\n",
            "  Downloading future-0.18.2.tar.gz (829 kB)\n",
            "\u001b[K     |████████████████████████████████| 829 kB 44.7 MB/s \n",
            "\u001b[?25hCollecting fastavro<2,>=0.21.4\n",
            "  Downloading fastavro-1.4.4-cp37-cp37m-manylinux_2_17_x86_64.manylinux2014_x86_64.whl (2.3 MB)\n",
            "\u001b[K     |████████████████████████████████| 2.3 MB 30.9 MB/s \n",
            "\u001b[?25hCollecting avro-python3\n",
            "  Downloading avro-python3-1.9.2.1.tar.gz (37 kB)\n",
            "Requirement already satisfied: pydot<2,>=1.2.0 in /usr/local/lib/python3.7/dist-packages (from apache-beam->object-detection==0.1) (1.3.0)\n",
            "Collecting requests<3.0.0dev,>=2.18.0\n",
            "  Downloading requests-2.26.0-py2.py3-none-any.whl (62 kB)\n",
            "\u001b[K     |████████████████████████████████| 62 kB 641 kB/s \n",
            "\u001b[?25hRequirement already satisfied: pymongo<4.0.0,>=3.8.0 in /usr/local/lib/python3.7/dist-packages (from apache-beam->object-detection==0.1) (3.12.0)\n",
            "Collecting dill<0.3.2,>=0.3.1.1\n",
            "  Downloading dill-0.3.1.1.tar.gz (151 kB)\n",
            "\u001b[K     |████████████████████████████████| 151 kB 63.5 MB/s \n",
            "\u001b[?25hRequirement already satisfied: docopt in /usr/local/lib/python3.7/dist-packages (from hdfs<3.0.0,>=2.1.0->apache-beam->object-detection==0.1) (0.6.2)\n",
            "Requirement already satisfied: charset-normalizer~=2.0.0 in /usr/local/lib/python3.7/dist-packages (from requests<3.0.0dev,>=2.18.0->google-api-core<2dev,>=1.21.0->google-api-python-client>=1.6.7->tf-models-official>=2.5.1->object-detection==0.1) (2.0.4)\n",
            "Requirement already satisfied: zipp>=0.5 in /usr/local/lib/python3.7/dist-packages (from importlib-metadata->markdown>=2.6.8->tensorboard~=2.6->tensorflow>=2.5.0->tf-models-official>=2.5.1->object-detection==0.1) (3.5.0)\n",
            "Requirement already satisfied: cycler>=0.10.0 in /usr/local/lib/python3.7/dist-packages (from lvis->object-detection==0.1) (0.10.0)\n",
            "Requirement already satisfied: opencv-python>=4.1.0.25 in /usr/local/lib/python3.7/dist-packages (from lvis->object-detection==0.1) (4.1.2.30)\n",
            "Requirement already satisfied: kiwisolver>=1.1.0 in /usr/local/lib/python3.7/dist-packages (from lvis->object-detection==0.1) (1.3.1)\n",
            "Requirement already satisfied: text-unidecode>=1.3 in /usr/local/lib/python3.7/dist-packages (from python-slugify->kaggle>=1.3.9->tf-models-official>=2.5.1->object-detection==0.1) (1.3)\n",
            "Requirement already satisfied: regex in /usr/local/lib/python3.7/dist-packages (from sacrebleu->tf-models-official>=2.5.1->object-detection==0.1) (2019.12.20)\n",
            "Requirement already satisfied: tabulate>=0.8.9 in /usr/local/lib/python3.7/dist-packages (from sacrebleu->tf-models-official>=2.5.1->object-detection==0.1) (0.8.9)\n",
            "Collecting portalocker\n",
            "  Downloading portalocker-2.3.2-py2.py3-none-any.whl (15 kB)\n",
            "Collecting colorama\n",
            "  Downloading colorama-0.4.4-py2.py3-none-any.whl (16 kB)\n",
            "Requirement already satisfied: scikit-learn>=0.21.3 in /usr/local/lib/python3.7/dist-packages (from seqeval->tf-models-official>=2.5.1->object-detection==0.1) (0.22.2.post1)\n",
            "Requirement already satisfied: joblib>=0.11 in /usr/local/lib/python3.7/dist-packages (from scikit-learn>=0.21.3->seqeval->tf-models-official>=2.5.1->object-detection==0.1) (1.0.1)\n",
            "Requirement already satisfied: typeguard>=2.7 in /usr/local/lib/python3.7/dist-packages (from tensorflow-addons->tf-models-official>=2.5.1->object-detection==0.1) (2.7.1)\n",
            "Requirement already satisfied: promise in /usr/local/lib/python3.7/dist-packages (from tensorflow-datasets->tf-models-official>=2.5.1->object-detection==0.1) (2.3)\n",
            "Requirement already satisfied: importlib-resources in /usr/local/lib/python3.7/dist-packages (from tensorflow-datasets->tf-models-official>=2.5.1->object-detection==0.1) (5.2.2)\n",
            "Requirement already satisfied: tensorflow-metadata in /usr/local/lib/python3.7/dist-packages (from tensorflow-datasets->tf-models-official>=2.5.1->object-detection==0.1) (1.2.0)\n",
            "Requirement already satisfied: attrs>=18.1.0 in /usr/local/lib/python3.7/dist-packages (from tensorflow-datasets->tf-models-official>=2.5.1->object-detection==0.1) (21.2.0)\n",
            "Building wheels for collected packages: object-detection, py-cpuinfo, avro-python3, dill, future, seqeval\n",
            "  Building wheel for object-detection (setup.py) ... \u001b[?25l\u001b[?25hdone\n",
            "  Created wheel for object-detection: filename=object_detection-0.1-py3-none-any.whl size=1665159 sha256=f522f493fcb99d9e68d8fba177855d2e73d49642df3aa343f9644687921c7abd\n",
            "  Stored in directory: /tmp/pip-ephem-wheel-cache-6a2xqdir/wheels/fa/a4/d2/e9a5057e414fd46c8e543d2706cd836d64e1fcd9eccceb2329\n",
            "  Building wheel for py-cpuinfo (setup.py) ... \u001b[?25l\u001b[?25hdone\n",
            "  Created wheel for py-cpuinfo: filename=py_cpuinfo-8.0.0-py3-none-any.whl size=22258 sha256=7d83bafe0cf135b217b02487193b4176c9d30cd69d3d203bfe9c593ab90d31e2\n",
            "  Stored in directory: /root/.cache/pip/wheels/d2/f1/1f/041add21dc9c4220157f1bd2bd6afe1f1a49524c3396b94401\n",
            "  Building wheel for avro-python3 (setup.py) ... \u001b[?25l\u001b[?25hdone\n",
            "  Created wheel for avro-python3: filename=avro_python3-1.9.2.1-py3-none-any.whl size=43512 sha256=703c5eeba717a0ec881e8d2b9f3b882d299c04ca9a0e38c61e1ac0bac32625aa\n",
            "  Stored in directory: /root/.cache/pip/wheels/bc/49/5f/fdb5b9d85055c478213e0158ac122b596816149a02d82e0ab1\n",
            "  Building wheel for dill (setup.py) ... \u001b[?25l\u001b[?25hdone\n",
            "  Created wheel for dill: filename=dill-0.3.1.1-py3-none-any.whl size=78546 sha256=ad99d50bf02fed27d96e75544a6139859cee09f16b86c0dfd96c851d48132d93\n",
            "  Stored in directory: /root/.cache/pip/wheels/a4/61/fd/c57e374e580aa78a45ed78d5859b3a44436af17e22ca53284f\n",
            "  Building wheel for future (setup.py) ... \u001b[?25l\u001b[?25hdone\n",
            "  Created wheel for future: filename=future-0.18.2-py3-none-any.whl size=491070 sha256=dd18dd0d175568d2c18b13a11c3954807af33850566e747cb73a3c8124277e4c\n",
            "  Stored in directory: /root/.cache/pip/wheels/56/b0/fe/4410d17b32f1f0c3cf54cdfb2bc04d7b4b8f4ae377e2229ba0\n",
            "  Building wheel for seqeval (setup.py) ... \u001b[?25l\u001b[?25hdone\n",
            "  Created wheel for seqeval: filename=seqeval-1.2.2-py3-none-any.whl size=16181 sha256=f5a128fd3ab5d30b2d11dc4986ac5cd87b4a2fb523aafa610d1f314054fec001\n",
            "  Stored in directory: /root/.cache/pip/wheels/05/96/ee/7cac4e74f3b19e3158dce26a20a1c86b3533c43ec72a549fd7\n",
            "Successfully built object-detection py-cpuinfo avro-python3 dill future seqeval\n",
            "Installing collected packages: requests, portalocker, future, dill, colorama, tf-slim, tensorflow-text, tensorflow-model-optimization, tensorflow-addons, seqeval, sentencepiece, sacrebleu, pyyaml, py-cpuinfo, orjson, opencv-python-headless, hdfs, fastavro, avro-python3, tf-models-official, lvis, apache-beam, object-detection\n",
            "  Attempting uninstall: requests\n",
            "    Found existing installation: requests 2.23.0\n",
            "    Uninstalling requests-2.23.0:\n",
            "      Successfully uninstalled requests-2.23.0\n",
            "  Attempting uninstall: future\n",
            "    Found existing installation: future 0.16.0\n",
            "    Uninstalling future-0.16.0:\n",
            "      Successfully uninstalled future-0.16.0\n",
            "  Attempting uninstall: dill\n",
            "    Found existing installation: dill 0.3.4\n",
            "    Uninstalling dill-0.3.4:\n",
            "      Successfully uninstalled dill-0.3.4\n",
            "  Attempting uninstall: pyyaml\n",
            "    Found existing installation: PyYAML 3.13\n",
            "    Uninstalling PyYAML-3.13:\n",
            "      Successfully uninstalled PyYAML-3.13\n",
            "\u001b[31mERROR: pip's dependency resolver does not currently take into account all the packages that are installed. This behaviour is the source of the following dependency conflicts.\n",
            "multiprocess 0.70.12.2 requires dill>=0.3.4, but you have dill 0.3.1.1 which is incompatible.\n",
            "google-colab 1.0.0 requires requests~=2.23.0, but you have requests 2.26.0 which is incompatible.\n",
            "datascience 0.10.6 requires folium==0.2.1, but you have folium 0.8.3 which is incompatible.\u001b[0m\n",
            "Successfully installed apache-beam-2.32.0 avro-python3-1.9.2.1 colorama-0.4.4 dill-0.3.1.1 fastavro-1.4.4 future-0.18.2 hdfs-2.6.0 lvis-0.5.3 object-detection-0.1 opencv-python-headless-4.5.3.56 orjson-3.6.3 portalocker-2.3.2 py-cpuinfo-8.0.0 pyyaml-5.4.1 requests-2.26.0 sacrebleu-2.0.0 sentencepiece-0.1.96 seqeval-1.2.2 tensorflow-addons-0.14.0 tensorflow-model-optimization-0.6.0 tensorflow-text-2.6.0 tf-models-official-2.6.0 tf-slim-1.1.0\n"
          ]
        }
      ]
    },
    {
      "cell_type": "code",
      "metadata": {
        "id": "vgeq3qvXNmy0"
      },
      "source": [
        "!python object_detection/builders/model_builder_tf2_test.py"
      ],
      "execution_count": null,
      "outputs": []
    },
    {
      "cell_type": "code",
      "metadata": {
        "id": "6TN7yJbRHXjW"
      },
      "source": [
        ""
      ],
      "execution_count": 14,
      "outputs": []
    },
    {
      "cell_type": "code",
      "metadata": {
        "colab": {
          "base_uri": "https://localhost:8080/"
        },
        "id": "lidb7zbmOGBK",
        "outputId": "c350fca7-83f0-46c3-e75e-4f367357d6a1"
      },
      "source": [
        "!wget http://download.tensorflow.org/models/object_detection/tf2/20200711/ssd_resnet50_v1_fpn_640x640_coco17_tpu-8.tar.gz"
      ],
      "execution_count": 15,
      "outputs": [
        {
          "output_type": "stream",
          "name": "stdout",
          "text": [
            "--2021-09-14 21:11:06--  http://download.tensorflow.org/models/object_detection/tf2/20200711/ssd_resnet50_v1_fpn_640x640_coco17_tpu-8.tar.gz\n",
            "Resolving download.tensorflow.org (download.tensorflow.org)... 173.194.217.128, 2607:f8b0:400c:c13::80\n",
            "Connecting to download.tensorflow.org (download.tensorflow.org)|173.194.217.128|:80... connected.\n",
            "HTTP request sent, awaiting response... 200 OK\n",
            "Length: 244817203 (233M) [application/x-tar]\n",
            "Saving to: ‘ssd_resnet50_v1_fpn_640x640_coco17_tpu-8.tar.gz’\n",
            "\n",
            "ssd_resnet50_v1_fpn 100%[===================>] 233.48M  81.3MB/s    in 2.9s    \n",
            "\n",
            "2021-09-14 21:11:09 (81.3 MB/s) - ‘ssd_resnet50_v1_fpn_640x640_coco17_tpu-8.tar.gz’ saved [244817203/244817203]\n",
            "\n"
          ]
        }
      ]
    },
    {
      "cell_type": "code",
      "metadata": {
        "colab": {
          "base_uri": "https://localhost:8080/"
        },
        "id": "IjSiSZpcOVXz",
        "outputId": "e3356401-eadd-412f-f96a-0c8a5b2356e7"
      },
      "source": [
        "! tar -xvf ssd_resnet50_v1_fpn_640x640_coco17_tpu-8.tar.gz"
      ],
      "execution_count": 16,
      "outputs": [
        {
          "output_type": "stream",
          "name": "stdout",
          "text": [
            "ssd_resnet50_v1_fpn_640x640_coco17_tpu-8/\n",
            "ssd_resnet50_v1_fpn_640x640_coco17_tpu-8/checkpoint/\n",
            "ssd_resnet50_v1_fpn_640x640_coco17_tpu-8/checkpoint/ckpt-0.data-00000-of-00001\n",
            "ssd_resnet50_v1_fpn_640x640_coco17_tpu-8/checkpoint/checkpoint\n",
            "ssd_resnet50_v1_fpn_640x640_coco17_tpu-8/checkpoint/ckpt-0.index\n",
            "ssd_resnet50_v1_fpn_640x640_coco17_tpu-8/pipeline.config\n",
            "ssd_resnet50_v1_fpn_640x640_coco17_tpu-8/saved_model/\n",
            "ssd_resnet50_v1_fpn_640x640_coco17_tpu-8/saved_model/saved_model.pb\n",
            "ssd_resnet50_v1_fpn_640x640_coco17_tpu-8/saved_model/assets/\n",
            "ssd_resnet50_v1_fpn_640x640_coco17_tpu-8/saved_model/variables/\n",
            "ssd_resnet50_v1_fpn_640x640_coco17_tpu-8/saved_model/variables/variables.data-00000-of-00001\n",
            "ssd_resnet50_v1_fpn_640x640_coco17_tpu-8/saved_model/variables/variables.index\n"
          ]
        }
      ]
    },
    {
      "cell_type": "code",
      "metadata": {
        "colab": {
          "base_uri": "https://localhost:8080/"
        },
        "id": "FYZkPMGNJtx2",
        "outputId": "0126d255-32de-4b0d-ec57-9d4a1a89c257"
      },
      "source": [
        "!python generate_tfrecord.py -x /content/workspace/training_demo/images/train -l /content/workspace/training_demo/annotations/label_map.pbtxt -o /content/workspace/training_demo/annotations/train.record"
      ],
      "execution_count": 24,
      "outputs": [
        {
          "output_type": "stream",
          "name": "stdout",
          "text": [
            "2021-09-14 21:52:50.362366: E tensorflow/stream_executor/cuda/cuda_driver.cc:271] failed call to cuInit: CUDA_ERROR_NO_DEVICE: no CUDA-capable device is detected\n",
            "Successfully created the TFRecord file: /content/workspace/training_demo/annotations/train.record\n"
          ]
        }
      ]
    },
    {
      "cell_type": "code",
      "metadata": {
        "colab": {
          "base_uri": "https://localhost:8080/"
        },
        "id": "ZaATYcOxUnc3",
        "outputId": "5bea6900-0a18-44e0-a351-d0c6962fc9c3"
      },
      "source": [
        "!python generate_tfrecord.py -x /content/workspace/training_demo/images/test -l /content/workspace/training_demo/annotations/label_map.pbtxt -o /content/workspace/training_demo/annotations/test.record"
      ],
      "execution_count": 25,
      "outputs": [
        {
          "output_type": "stream",
          "name": "stdout",
          "text": [
            "2021-09-14 21:53:24.676361: E tensorflow/stream_executor/cuda/cuda_driver.cc:271] failed call to cuInit: CUDA_ERROR_NO_DEVICE: no CUDA-capable device is detected\n",
            "Successfully created the TFRecord file: /content/workspace/training_demo/annotations/test.record\n"
          ]
        }
      ]
    },
    {
      "cell_type": "code",
      "metadata": {
        "id": "P3J9tFOeVoB2"
      },
      "source": [
        "!python model_main_tf2.py --model_dir=models/my_ssd_resnet50_v1_fpn --pipeline_config_path=models/my_ssd_resnet50_v1_fpn/pipeline.config"
      ],
      "execution_count": null,
      "outputs": []
    },
    {
      "cell_type": "code",
      "metadata": {
        "id": "fgIqEGCoVtZW"
      },
      "source": [
        "!python exporter_main_v2.py --input_type image_tensor --pipeline_config_path /content/workspace/training_demo/models/my_ssd_resnet50_v1_fpn/pipeline.config --trained_checkpoint_dir /content/workspace/training_demo/models/my_ssd_resnet50_v1_fpn --output_directory /content/workspace/training_demo/exported-models"
      ],
      "execution_count": null,
      "outputs": []
    },
    {
      "cell_type": "markdown",
      "metadata": {
        "id": "AKmIetvDQRZV"
      },
      "source": [
        "# New Section"
      ]
    },
    {
      "cell_type": "markdown",
      "metadata": {
        "id": "NVtyt-KROqJk"
      },
      "source": [
        "Object Detection (On Image) From TF2 Saved Model\n"
      ]
    },
    {
      "cell_type": "code",
      "metadata": {
        "id": "rPm9hlskpJfb"
      },
      "source": [
        "\"\"\"\n",
        "Object Detection (On Image) From TF2 Saved Model\n",
        "=====================================\n",
        "\"\"\"\n",
        "\n",
        "import os\n",
        "os.environ['TF_CPP_MIN_LOG_LEVEL'] = '2'    # Suppress TensorFlow logging (1)\n",
        "import pathlib\n",
        "import tensorflow as tf\n",
        "import cv2\n",
        "import argparse\n",
        "from google.colab.patches import cv2_imshow\n",
        "\n",
        "# Enable GPU dynamic memory allocation\n",
        "gpus = tf.config.experimental.list_physical_devices('GPU')\n",
        "for gpu in gpus:\n",
        "    tf.config.experimental.set_memory_growth(gpu, True)\n",
        "\n",
        "# PROVIDE PATH TO IMAGE DIRECTORY\n",
        "IMAGE_PATHS = '/content/workspace/training_demo/images/test/playing_card.e7ce63fa-123b-11ec-8fc8-9829a63df29a.jpg'\n",
        "\n",
        "\n",
        "# PROVIDE PATH TO MODEL DIRECTORY\n",
        "PATH_TO_MODEL_DIR = '/content/workspace/training_demo/exported-models'\n",
        "\n",
        "# PROVIDE PATH TO LABEL MAP\n",
        "PATH_TO_LABELS = '/content/workspace/training_demo/annotations/label_map.pbtxt'\n",
        "\n",
        "# PROVIDE THE MINIMUM CONFIDENCE THRESHOLD\n",
        "MIN_CONF_THRESH = float(0.60)\n",
        "\n",
        "# LOAD THE MODEL\n",
        "\n",
        "import time\n",
        "from object_detection.utils import label_map_util\n",
        "from object_detection.utils import visualization_utils as viz_utils\n",
        "\n",
        "PATH_TO_SAVED_MODEL = PATH_TO_MODEL_DIR + \"/saved_model\"\n",
        "\n",
        "print('Loading model...', end='')\n",
        "start_time = time.time()\n",
        "\n",
        "# LOAD SAVED MODEL AND BUILD DETECTION FUNCTION\n",
        "detect_fn = tf.saved_model.load(PATH_TO_SAVED_MODEL)\n",
        "\n",
        "end_time = time.time()\n",
        "elapsed_time = end_time - start_time\n",
        "print('Done! Took {} seconds'.format(elapsed_time))\n",
        "\n",
        "# LOAD LABEL MAP DATA FOR PLOTTING\n",
        "\n",
        "category_index = label_map_util.create_category_index_from_labelmap(PATH_TO_LABELS,\n",
        "                                                                    use_display_name=True)\n",
        "\n",
        "import numpy as np\n",
        "from PIL import Image\n",
        "import matplotlib.pyplot as plt\n",
        "import warnings\n",
        "warnings.filterwarnings('ignore')   # Suppress Matplotlib warnings\n",
        "\n",
        "def load_image_into_numpy_array(path):\n",
        "    \"\"\"Load an image from file into a numpy array.\n",
        "    Puts image into numpy array to feed into tensorflow graph.\n",
        "    Note that by convention we put it into a numpy array with shape\n",
        "    (height, width, channels), where channels=3 for RGB.\n",
        "    Args:\n",
        "      path: the file path to the image\n",
        "    Returns:\n",
        "      uint8 numpy array with shape (img_height, img_width, 3)\n",
        "    \"\"\"\n",
        "    return np.array(Image.open(path))\n",
        "\n",
        "\n",
        "\n",
        "\n",
        "print('Running inference for {}... '.format(IMAGE_PATHS), end='')\n",
        "\n",
        "image = cv2.imread(IMAGE_PATHS)\n",
        "image_rgb = cv2.cvtColor(image, cv2.COLOR_BGR2RGB)\n",
        "image_expanded = np.expand_dims(image_rgb, axis=0)\n",
        "\n",
        "# The input needs to be a tensor, convert it using `tf.convert_to_tensor`.\n",
        "input_tensor = tf.convert_to_tensor(image)\n",
        "# The model expects a batch of images, so add an axis with `tf.newaxis`.\n",
        "input_tensor = input_tensor[tf.newaxis, ...]\n",
        "\n",
        "# input_tensor = np.expand_dims(image_np, 0)\n",
        "detections = detect_fn(input_tensor)\n",
        "\n",
        "# All outputs are batches tensors.\n",
        "# Convert to numpy arrays, and take index [0] to remove the batch dimension.\n",
        "# We're only interested in the first num_detections.\n",
        "num_detections = int(detections.pop('num_detections'))\n",
        "detections = {key: value[0, :num_detections].numpy()\n",
        "               for key, value in detections.items()}\n",
        "detections['num_detections'] = num_detections\n",
        "\n",
        "# detection_classes should be ints.\n",
        "detections['detection_classes'] = detections['detection_classes'].astype(np.int64)\n",
        "\n",
        "image_with_detections = image.copy()\n",
        "\n",
        "# SET MIN_SCORE_THRESH BASED ON YOU MINIMUM THRESHOLD FOR DETECTIONS\n",
        "viz_utils.visualize_boxes_and_labels_on_image_array(\n",
        "      image_with_detections,\n",
        "      detections['detection_boxes'],\n",
        "      detections['detection_classes'],\n",
        "      detections['detection_scores'],\n",
        "      category_index,\n",
        "      use_normalized_coordinates=True,\n",
        "      max_boxes_to_draw=200,\n",
        "      min_score_thresh=0.5,\n",
        "      agnostic_mode=False)\n",
        "\n",
        "print('Done')\n",
        "# DISPLAYS OUTPUT IMAGE\n",
        "cv2_imshow(image_with_detections)\n",
        "# CLOSES WINDOW ONCE KEY IS PRESSED"
      ],
      "execution_count": null,
      "outputs": []
    },
    {
      "cell_type": "code",
      "metadata": {
        "id": "qOrWmwE1Np1J"
      },
      "source": [
        ""
      ],
      "execution_count": null,
      "outputs": []
    },
    {
      "cell_type": "markdown",
      "metadata": {
        "id": "uiZ8FhC5QhVG"
      },
      "source": [
        "detect object live"
      ]
    },
    {
      "cell_type": "code",
      "metadata": {
        "id": "Cguu5lCHOxpz"
      },
      "source": [
        "import numpy as np\n",
        "import os\n",
        "import six.moves.urllib as urllib\n",
        "import sys\n",
        "import tarfile\n",
        "import tensorflow as tf\n",
        "import zipfile\n",
        "\n",
        "from collections import defaultdict\n",
        "from io import StringIO\n",
        "from matplotlib import pyplot as plt\n",
        "from PIL import Image\n",
        "from IPython.display import display\n",
        "from object_detection.utils import ops as utils_ops\n",
        "from object_detection.utils import label_map_util\n",
        "from object_detection.utils import visualization_utils as vis_util"
      ],
      "execution_count": null,
      "outputs": []
    },
    {
      "cell_type": "code",
      "metadata": {
        "id": "fU64ztJEQoq1"
      },
      "source": [
        "# patch tf1 into `utils.ops`\n",
        "utils_ops.tf = tf.compat.v1\n",
        "\n",
        "# Patch the location of gfile\n",
        "tf.gfile = tf.io.gfile"
      ],
      "execution_count": null,
      "outputs": []
    },
    {
      "cell_type": "code",
      "metadata": {
        "id": "aSyktlDSQuQ5"
      },
      "source": [
        "def load_model(model_name):\n",
        "    base_url = 'http://download.tensorflow.org/models/object_detection/'\n",
        "    model_file = model_name + '.tar.gz'\n",
        "    model_dir = tf.keras.utils.get_file(\n",
        "        fname=model_name, \n",
        "        origin=base_url + model_file,\n",
        "        untar=True)\n",
        "\n",
        "    model_dir = pathlib.Path(model_dir)/\"saved_model\"\n",
        "\n",
        "    model = tf.saved_model.load(str(model_dir))\n",
        "    model = model.signatures['serving_default']\n",
        "\n",
        "    return model"
      ],
      "execution_count": null,
      "outputs": []
    },
    {
      "cell_type": "code",
      "metadata": {
        "colab": {
          "base_uri": "https://localhost:8080/",
          "height": 35
        },
        "id": "uxb4yeuCSvJi",
        "outputId": "7e3b4dc4-7724-45a0-c577-9163ff286876"
      },
      "source": [
        "pwd"
      ],
      "execution_count": null,
      "outputs": [
        {
          "output_type": "execute_result",
          "data": {
            "application/vnd.google.colaboratory.intrinsic+json": {
              "type": "string"
            },
            "text/plain": [
              "'/content'"
            ]
          },
          "metadata": {},
          "execution_count": 80
        }
      ]
    },
    {
      "cell_type": "markdown",
      "metadata": {
        "id": "mgfe5XSrQxsZ"
      },
      "source": [
        "### Loading label map\n",
        "Label maps map indices to category names, so that when our convolution network predicts `5`, we know that this corresponds to `airplane`.  Here we use internal utility functions, but anything that returns a dictionary mapping integers to appropriate string labels would be fine"
      ]
    },
    {
      "cell_type": "code",
      "metadata": {
        "id": "PQFGI2ugQyVJ"
      },
      "source": [
        "# List of the strings that is used to add correct label for each box.\n",
        "PATH_TO_LABELS = '/content/models/research/object_detection/data/mscoco_label_map.pbtxt'\n",
        "category_index = label_map_util.create_category_index_from_labelmap(PATH_TO_LABELS, use_display_name=True)"
      ],
      "execution_count": null,
      "outputs": []
    },
    {
      "cell_type": "code",
      "metadata": {
        "id": "-0E1ZPkPQ4Td"
      },
      "source": [
        "detection_model = tf.saved_model.load(\"/content/workspace/training_demo/exported-models/playcardphone/saved_model\")\n",
        "detection_model = detection_model.signatures['serving_default']"
      ],
      "execution_count": null,
      "outputs": []
    },
    {
      "cell_type": "markdown",
      "metadata": {
        "id": "PnOlzIoJQ83t"
      },
      "source": [
        "# Check the model's input signature, it expects a batch of 3-color images of type uint8: "
      ]
    },
    {
      "cell_type": "code",
      "metadata": {
        "colab": {
          "base_uri": "https://localhost:8080/"
        },
        "id": "gVPNosp5Q-7h",
        "outputId": "7e69a31f-f4bd-4b0b-e678-5e69af9c912e"
      },
      "source": [
        "print(detection_model.inputs)"
      ],
      "execution_count": null,
      "outputs": [
        {
          "output_type": "stream",
          "name": "stdout",
          "text": [
            "[<tf.Tensor 'input_tensor:0' shape=(1, None, None, 3) dtype=uint8>, <tf.Tensor 'unknown:0' shape=<unknown> dtype=resource>, <tf.Tensor 'unknown_0:0' shape=<unknown> dtype=resource>, <tf.Tensor 'unknown_1:0' shape=<unknown> dtype=resource>, <tf.Tensor 'unknown_2:0' shape=<unknown> dtype=resource>, <tf.Tensor 'unknown_3:0' shape=<unknown> dtype=resource>, <tf.Tensor 'unknown_4:0' shape=<unknown> dtype=resource>, <tf.Tensor 'unknown_5:0' shape=<unknown> dtype=resource>, <tf.Tensor 'unknown_6:0' shape=<unknown> dtype=resource>, <tf.Tensor 'unknown_7:0' shape=<unknown> dtype=resource>, <tf.Tensor 'unknown_8:0' shape=<unknown> dtype=resource>, <tf.Tensor 'unknown_9:0' shape=<unknown> dtype=resource>, <tf.Tensor 'unknown_10:0' shape=<unknown> dtype=resource>, <tf.Tensor 'unknown_11:0' shape=<unknown> dtype=resource>, <tf.Tensor 'unknown_12:0' shape=<unknown> dtype=resource>, <tf.Tensor 'unknown_13:0' shape=<unknown> dtype=resource>, <tf.Tensor 'unknown_14:0' shape=<unknown> dtype=resource>, <tf.Tensor 'unknown_15:0' shape=<unknown> dtype=resource>, <tf.Tensor 'unknown_16:0' shape=<unknown> dtype=resource>, <tf.Tensor 'unknown_17:0' shape=<unknown> dtype=resource>, <tf.Tensor 'unknown_18:0' shape=<unknown> dtype=resource>, <tf.Tensor 'unknown_19:0' shape=<unknown> dtype=resource>, <tf.Tensor 'unknown_20:0' shape=<unknown> dtype=resource>, <tf.Tensor 'unknown_21:0' shape=<unknown> dtype=resource>, <tf.Tensor 'unknown_22:0' shape=<unknown> dtype=resource>, <tf.Tensor 'unknown_23:0' shape=<unknown> dtype=resource>, <tf.Tensor 'unknown_24:0' shape=<unknown> dtype=resource>, <tf.Tensor 'unknown_25:0' shape=<unknown> dtype=resource>, <tf.Tensor 'unknown_26:0' shape=<unknown> dtype=resource>, <tf.Tensor 'unknown_27:0' shape=<unknown> dtype=resource>, <tf.Tensor 'unknown_28:0' shape=<unknown> dtype=resource>, <tf.Tensor 'unknown_29:0' shape=<unknown> dtype=resource>, <tf.Tensor 'unknown_30:0' shape=<unknown> dtype=resource>, <tf.Tensor 'unknown_31:0' shape=<unknown> dtype=resource>, <tf.Tensor 'unknown_32:0' shape=<unknown> dtype=resource>, <tf.Tensor 'unknown_33:0' shape=<unknown> dtype=resource>, <tf.Tensor 'unknown_34:0' shape=<unknown> dtype=resource>, <tf.Tensor 'unknown_35:0' shape=<unknown> dtype=resource>, <tf.Tensor 'unknown_36:0' shape=<unknown> dtype=resource>, <tf.Tensor 'unknown_37:0' shape=<unknown> dtype=resource>, <tf.Tensor 'unknown_38:0' shape=<unknown> dtype=resource>, <tf.Tensor 'unknown_39:0' shape=<unknown> dtype=resource>, <tf.Tensor 'unknown_40:0' shape=<unknown> dtype=resource>, <tf.Tensor 'unknown_41:0' shape=<unknown> dtype=resource>, <tf.Tensor 'unknown_42:0' shape=<unknown> dtype=resource>, <tf.Tensor 'unknown_43:0' shape=<unknown> dtype=resource>, <tf.Tensor 'unknown_44:0' shape=<unknown> dtype=resource>, <tf.Tensor 'unknown_45:0' shape=<unknown> dtype=resource>, <tf.Tensor 'unknown_46:0' shape=<unknown> dtype=resource>, <tf.Tensor 'unknown_47:0' shape=<unknown> dtype=resource>, <tf.Tensor 'unknown_48:0' shape=<unknown> dtype=resource>, <tf.Tensor 'unknown_49:0' shape=<unknown> dtype=resource>, <tf.Tensor 'unknown_50:0' shape=<unknown> dtype=resource>, <tf.Tensor 'unknown_51:0' shape=<unknown> dtype=resource>, <tf.Tensor 'unknown_52:0' shape=<unknown> dtype=resource>, <tf.Tensor 'unknown_53:0' shape=<unknown> dtype=resource>, <tf.Tensor 'unknown_54:0' shape=<unknown> dtype=resource>, <tf.Tensor 'unknown_55:0' shape=<unknown> dtype=resource>, <tf.Tensor 'unknown_56:0' shape=<unknown> dtype=resource>, <tf.Tensor 'unknown_57:0' shape=<unknown> dtype=resource>, <tf.Tensor 'unknown_58:0' shape=<unknown> dtype=resource>, <tf.Tensor 'unknown_59:0' shape=<unknown> dtype=resource>, <tf.Tensor 'unknown_60:0' shape=<unknown> dtype=resource>, <tf.Tensor 'unknown_61:0' shape=<unknown> dtype=resource>, <tf.Tensor 'unknown_62:0' shape=<unknown> dtype=resource>, <tf.Tensor 'unknown_63:0' shape=<unknown> dtype=resource>, <tf.Tensor 'unknown_64:0' shape=<unknown> dtype=resource>, <tf.Tensor 'unknown_65:0' shape=<unknown> dtype=resource>, <tf.Tensor 'unknown_66:0' shape=<unknown> dtype=resource>, <tf.Tensor 'unknown_67:0' shape=<unknown> dtype=resource>, <tf.Tensor 'unknown_68:0' shape=<unknown> dtype=resource>, <tf.Tensor 'unknown_69:0' shape=<unknown> dtype=resource>, <tf.Tensor 'unknown_70:0' shape=<unknown> dtype=resource>, <tf.Tensor 'unknown_71:0' shape=<unknown> dtype=resource>, <tf.Tensor 'unknown_72:0' shape=<unknown> dtype=resource>, <tf.Tensor 'unknown_73:0' shape=<unknown> dtype=resource>, <tf.Tensor 'unknown_74:0' shape=<unknown> dtype=resource>, <tf.Tensor 'unknown_75:0' shape=<unknown> dtype=resource>, <tf.Tensor 'unknown_76:0' shape=<unknown> dtype=resource>, <tf.Tensor 'unknown_77:0' shape=<unknown> dtype=resource>, <tf.Tensor 'unknown_78:0' shape=<unknown> dtype=resource>, <tf.Tensor 'unknown_79:0' shape=<unknown> dtype=resource>, <tf.Tensor 'unknown_80:0' shape=<unknown> dtype=resource>, <tf.Tensor 'unknown_81:0' shape=<unknown> dtype=resource>, <tf.Tensor 'unknown_82:0' shape=<unknown> dtype=resource>, <tf.Tensor 'unknown_83:0' shape=<unknown> dtype=resource>, <tf.Tensor 'unknown_84:0' shape=<unknown> dtype=resource>, <tf.Tensor 'unknown_85:0' shape=<unknown> dtype=resource>, <tf.Tensor 'unknown_86:0' shape=<unknown> dtype=resource>, <tf.Tensor 'unknown_87:0' shape=<unknown> dtype=resource>, <tf.Tensor 'unknown_88:0' shape=<unknown> dtype=resource>, <tf.Tensor 'unknown_89:0' shape=<unknown> dtype=resource>, <tf.Tensor 'unknown_90:0' shape=<unknown> dtype=resource>, <tf.Tensor 'unknown_91:0' shape=<unknown> dtype=resource>, <tf.Tensor 'unknown_92:0' shape=<unknown> dtype=resource>, <tf.Tensor 'unknown_93:0' shape=<unknown> dtype=resource>, <tf.Tensor 'unknown_94:0' shape=<unknown> dtype=resource>, <tf.Tensor 'unknown_95:0' shape=<unknown> dtype=resource>, <tf.Tensor 'unknown_96:0' shape=<unknown> dtype=resource>, <tf.Tensor 'unknown_97:0' shape=<unknown> dtype=resource>, <tf.Tensor 'unknown_98:0' shape=<unknown> dtype=resource>, <tf.Tensor 'unknown_99:0' shape=<unknown> dtype=resource>, <tf.Tensor 'unknown_100:0' shape=<unknown> dtype=resource>, <tf.Tensor 'unknown_101:0' shape=<unknown> dtype=resource>, <tf.Tensor 'unknown_102:0' shape=<unknown> dtype=resource>, <tf.Tensor 'unknown_103:0' shape=<unknown> dtype=resource>, <tf.Tensor 'unknown_104:0' shape=<unknown> dtype=resource>, <tf.Tensor 'unknown_105:0' shape=<unknown> dtype=resource>, <tf.Tensor 'unknown_106:0' shape=<unknown> dtype=resource>, <tf.Tensor 'unknown_107:0' shape=<unknown> dtype=resource>, <tf.Tensor 'unknown_108:0' shape=<unknown> dtype=resource>, <tf.Tensor 'unknown_109:0' shape=<unknown> dtype=resource>, <tf.Tensor 'unknown_110:0' shape=<unknown> dtype=resource>, <tf.Tensor 'unknown_111:0' shape=<unknown> dtype=resource>, <tf.Tensor 'unknown_112:0' shape=<unknown> dtype=resource>, <tf.Tensor 'unknown_113:0' shape=<unknown> dtype=resource>, <tf.Tensor 'unknown_114:0' shape=<unknown> dtype=resource>, <tf.Tensor 'unknown_115:0' shape=<unknown> dtype=resource>, <tf.Tensor 'unknown_116:0' shape=<unknown> dtype=resource>, <tf.Tensor 'unknown_117:0' shape=<unknown> dtype=resource>, <tf.Tensor 'unknown_118:0' shape=<unknown> dtype=resource>, <tf.Tensor 'unknown_119:0' shape=<unknown> dtype=resource>, <tf.Tensor 'unknown_120:0' shape=<unknown> dtype=resource>, <tf.Tensor 'unknown_121:0' shape=<unknown> dtype=resource>, <tf.Tensor 'unknown_122:0' shape=<unknown> dtype=resource>, <tf.Tensor 'unknown_123:0' shape=<unknown> dtype=resource>, <tf.Tensor 'unknown_124:0' shape=<unknown> dtype=resource>, <tf.Tensor 'unknown_125:0' shape=<unknown> dtype=resource>, <tf.Tensor 'unknown_126:0' shape=<unknown> dtype=resource>, <tf.Tensor 'unknown_127:0' shape=<unknown> dtype=resource>, <tf.Tensor 'unknown_128:0' shape=<unknown> dtype=resource>, <tf.Tensor 'unknown_129:0' shape=<unknown> dtype=resource>, <tf.Tensor 'unknown_130:0' shape=<unknown> dtype=resource>, <tf.Tensor 'unknown_131:0' shape=<unknown> dtype=resource>, <tf.Tensor 'unknown_132:0' shape=<unknown> dtype=resource>, <tf.Tensor 'unknown_133:0' shape=<unknown> dtype=resource>, <tf.Tensor 'unknown_134:0' shape=<unknown> dtype=resource>, <tf.Tensor 'unknown_135:0' shape=<unknown> dtype=resource>, <tf.Tensor 'unknown_136:0' shape=<unknown> dtype=resource>, <tf.Tensor 'unknown_137:0' shape=<unknown> dtype=resource>, <tf.Tensor 'unknown_138:0' shape=<unknown> dtype=resource>, <tf.Tensor 'unknown_139:0' shape=<unknown> dtype=resource>, <tf.Tensor 'unknown_140:0' shape=<unknown> dtype=resource>, <tf.Tensor 'unknown_141:0' shape=<unknown> dtype=resource>, <tf.Tensor 'unknown_142:0' shape=<unknown> dtype=resource>, <tf.Tensor 'unknown_143:0' shape=<unknown> dtype=resource>, <tf.Tensor 'unknown_144:0' shape=<unknown> dtype=resource>, <tf.Tensor 'unknown_145:0' shape=<unknown> dtype=resource>, <tf.Tensor 'unknown_146:0' shape=<unknown> dtype=resource>, <tf.Tensor 'unknown_147:0' shape=<unknown> dtype=resource>, <tf.Tensor 'unknown_148:0' shape=<unknown> dtype=resource>, <tf.Tensor 'unknown_149:0' shape=<unknown> dtype=resource>, <tf.Tensor 'unknown_150:0' shape=<unknown> dtype=resource>, <tf.Tensor 'unknown_151:0' shape=<unknown> dtype=resource>, <tf.Tensor 'unknown_152:0' shape=<unknown> dtype=resource>, <tf.Tensor 'unknown_153:0' shape=<unknown> dtype=resource>, <tf.Tensor 'unknown_154:0' shape=<unknown> dtype=resource>, <tf.Tensor 'unknown_155:0' shape=<unknown> dtype=resource>, <tf.Tensor 'unknown_156:0' shape=<unknown> dtype=resource>, <tf.Tensor 'unknown_157:0' shape=<unknown> dtype=resource>, <tf.Tensor 'unknown_158:0' shape=<unknown> dtype=resource>, <tf.Tensor 'unknown_159:0' shape=<unknown> dtype=resource>, <tf.Tensor 'unknown_160:0' shape=<unknown> dtype=resource>, <tf.Tensor 'unknown_161:0' shape=<unknown> dtype=resource>, <tf.Tensor 'unknown_162:0' shape=<unknown> dtype=resource>, <tf.Tensor 'unknown_163:0' shape=<unknown> dtype=resource>, <tf.Tensor 'unknown_164:0' shape=<unknown> dtype=resource>, <tf.Tensor 'unknown_165:0' shape=<unknown> dtype=resource>, <tf.Tensor 'unknown_166:0' shape=<unknown> dtype=resource>, <tf.Tensor 'unknown_167:0' shape=<unknown> dtype=resource>, <tf.Tensor 'unknown_168:0' shape=<unknown> dtype=resource>, <tf.Tensor 'unknown_169:0' shape=<unknown> dtype=resource>, <tf.Tensor 'unknown_170:0' shape=<unknown> dtype=resource>, <tf.Tensor 'unknown_171:0' shape=<unknown> dtype=resource>, <tf.Tensor 'unknown_172:0' shape=<unknown> dtype=resource>, <tf.Tensor 'unknown_173:0' shape=<unknown> dtype=resource>, <tf.Tensor 'unknown_174:0' shape=<unknown> dtype=resource>, <tf.Tensor 'unknown_175:0' shape=<unknown> dtype=resource>, <tf.Tensor 'unknown_176:0' shape=<unknown> dtype=resource>, <tf.Tensor 'unknown_177:0' shape=<unknown> dtype=resource>, <tf.Tensor 'unknown_178:0' shape=<unknown> dtype=resource>, <tf.Tensor 'unknown_179:0' shape=<unknown> dtype=resource>, <tf.Tensor 'unknown_180:0' shape=<unknown> dtype=resource>, <tf.Tensor 'unknown_181:0' shape=<unknown> dtype=resource>, <tf.Tensor 'unknown_182:0' shape=<unknown> dtype=resource>, <tf.Tensor 'unknown_183:0' shape=<unknown> dtype=resource>, <tf.Tensor 'unknown_184:0' shape=<unknown> dtype=resource>, <tf.Tensor 'unknown_185:0' shape=<unknown> dtype=resource>, <tf.Tensor 'unknown_186:0' shape=<unknown> dtype=resource>, <tf.Tensor 'unknown_187:0' shape=<unknown> dtype=resource>, <tf.Tensor 'unknown_188:0' shape=<unknown> dtype=resource>, <tf.Tensor 'unknown_189:0' shape=<unknown> dtype=resource>, <tf.Tensor 'unknown_190:0' shape=<unknown> dtype=resource>, <tf.Tensor 'unknown_191:0' shape=<unknown> dtype=resource>, <tf.Tensor 'unknown_192:0' shape=<unknown> dtype=resource>, <tf.Tensor 'unknown_193:0' shape=<unknown> dtype=resource>, <tf.Tensor 'unknown_194:0' shape=<unknown> dtype=resource>, <tf.Tensor 'unknown_195:0' shape=<unknown> dtype=resource>, <tf.Tensor 'unknown_196:0' shape=<unknown> dtype=resource>, <tf.Tensor 'unknown_197:0' shape=<unknown> dtype=resource>, <tf.Tensor 'unknown_198:0' shape=<unknown> dtype=resource>, <tf.Tensor 'unknown_199:0' shape=<unknown> dtype=resource>, <tf.Tensor 'unknown_200:0' shape=<unknown> dtype=resource>, <tf.Tensor 'unknown_201:0' shape=<unknown> dtype=resource>, <tf.Tensor 'unknown_202:0' shape=<unknown> dtype=resource>, <tf.Tensor 'unknown_203:0' shape=<unknown> dtype=resource>, <tf.Tensor 'unknown_204:0' shape=<unknown> dtype=resource>, <tf.Tensor 'unknown_205:0' shape=<unknown> dtype=resource>, <tf.Tensor 'unknown_206:0' shape=<unknown> dtype=resource>, <tf.Tensor 'unknown_207:0' shape=<unknown> dtype=resource>, <tf.Tensor 'unknown_208:0' shape=<unknown> dtype=resource>, <tf.Tensor 'unknown_209:0' shape=<unknown> dtype=resource>, <tf.Tensor 'unknown_210:0' shape=<unknown> dtype=resource>, <tf.Tensor 'unknown_211:0' shape=<unknown> dtype=resource>, <tf.Tensor 'unknown_212:0' shape=<unknown> dtype=resource>, <tf.Tensor 'unknown_213:0' shape=<unknown> dtype=resource>, <tf.Tensor 'unknown_214:0' shape=<unknown> dtype=resource>, <tf.Tensor 'unknown_215:0' shape=<unknown> dtype=resource>, <tf.Tensor 'unknown_216:0' shape=<unknown> dtype=resource>, <tf.Tensor 'unknown_217:0' shape=<unknown> dtype=resource>, <tf.Tensor 'unknown_218:0' shape=<unknown> dtype=resource>, <tf.Tensor 'unknown_219:0' shape=<unknown> dtype=resource>, <tf.Tensor 'unknown_220:0' shape=<unknown> dtype=resource>, <tf.Tensor 'unknown_221:0' shape=<unknown> dtype=resource>, <tf.Tensor 'unknown_222:0' shape=<unknown> dtype=resource>, <tf.Tensor 'unknown_223:0' shape=<unknown> dtype=resource>, <tf.Tensor 'unknown_224:0' shape=<unknown> dtype=resource>, <tf.Tensor 'unknown_225:0' shape=<unknown> dtype=resource>, <tf.Tensor 'unknown_226:0' shape=<unknown> dtype=resource>, <tf.Tensor 'unknown_227:0' shape=<unknown> dtype=resource>, <tf.Tensor 'unknown_228:0' shape=<unknown> dtype=resource>, <tf.Tensor 'unknown_229:0' shape=<unknown> dtype=resource>, <tf.Tensor 'unknown_230:0' shape=<unknown> dtype=resource>, <tf.Tensor 'unknown_231:0' shape=<unknown> dtype=resource>, <tf.Tensor 'unknown_232:0' shape=<unknown> dtype=resource>, <tf.Tensor 'unknown_233:0' shape=<unknown> dtype=resource>, <tf.Tensor 'unknown_234:0' shape=<unknown> dtype=resource>, <tf.Tensor 'unknown_235:0' shape=<unknown> dtype=resource>, <tf.Tensor 'unknown_236:0' shape=<unknown> dtype=resource>, <tf.Tensor 'unknown_237:0' shape=<unknown> dtype=resource>, <tf.Tensor 'unknown_238:0' shape=<unknown> dtype=resource>, <tf.Tensor 'unknown_239:0' shape=<unknown> dtype=resource>, <tf.Tensor 'unknown_240:0' shape=<unknown> dtype=resource>, <tf.Tensor 'unknown_241:0' shape=<unknown> dtype=resource>, <tf.Tensor 'unknown_242:0' shape=<unknown> dtype=resource>, <tf.Tensor 'unknown_243:0' shape=<unknown> dtype=resource>, <tf.Tensor 'unknown_244:0' shape=<unknown> dtype=resource>, <tf.Tensor 'unknown_245:0' shape=<unknown> dtype=resource>, <tf.Tensor 'unknown_246:0' shape=<unknown> dtype=resource>, <tf.Tensor 'unknown_247:0' shape=<unknown> dtype=resource>, <tf.Tensor 'unknown_248:0' shape=<unknown> dtype=resource>, <tf.Tensor 'unknown_249:0' shape=<unknown> dtype=resource>, <tf.Tensor 'unknown_250:0' shape=<unknown> dtype=resource>, <tf.Tensor 'unknown_251:0' shape=<unknown> dtype=resource>, <tf.Tensor 'unknown_252:0' shape=<unknown> dtype=resource>, <tf.Tensor 'unknown_253:0' shape=<unknown> dtype=resource>, <tf.Tensor 'unknown_254:0' shape=<unknown> dtype=resource>, <tf.Tensor 'unknown_255:0' shape=<unknown> dtype=resource>, <tf.Tensor 'unknown_256:0' shape=<unknown> dtype=resource>, <tf.Tensor 'unknown_257:0' shape=<unknown> dtype=resource>, <tf.Tensor 'unknown_258:0' shape=<unknown> dtype=resource>, <tf.Tensor 'unknown_259:0' shape=<unknown> dtype=resource>, <tf.Tensor 'unknown_260:0' shape=<unknown> dtype=resource>, <tf.Tensor 'unknown_261:0' shape=<unknown> dtype=resource>, <tf.Tensor 'unknown_262:0' shape=<unknown> dtype=resource>, <tf.Tensor 'unknown_263:0' shape=<unknown> dtype=resource>, <tf.Tensor 'unknown_264:0' shape=<unknown> dtype=resource>, <tf.Tensor 'unknown_265:0' shape=<unknown> dtype=resource>, <tf.Tensor 'unknown_266:0' shape=<unknown> dtype=resource>, <tf.Tensor 'unknown_267:0' shape=<unknown> dtype=resource>, <tf.Tensor 'unknown_268:0' shape=<unknown> dtype=resource>, <tf.Tensor 'unknown_269:0' shape=<unknown> dtype=resource>, <tf.Tensor 'unknown_270:0' shape=<unknown> dtype=resource>, <tf.Tensor 'unknown_271:0' shape=<unknown> dtype=resource>, <tf.Tensor 'unknown_272:0' shape=<unknown> dtype=resource>, <tf.Tensor 'unknown_273:0' shape=<unknown> dtype=resource>, <tf.Tensor 'unknown_274:0' shape=<unknown> dtype=resource>, <tf.Tensor 'unknown_275:0' shape=<unknown> dtype=resource>, <tf.Tensor 'unknown_276:0' shape=<unknown> dtype=resource>, <tf.Tensor 'unknown_277:0' shape=<unknown> dtype=resource>, <tf.Tensor 'unknown_278:0' shape=<unknown> dtype=resource>, <tf.Tensor 'unknown_279:0' shape=<unknown> dtype=resource>, <tf.Tensor 'unknown_280:0' shape=<unknown> dtype=resource>, <tf.Tensor 'unknown_281:0' shape=<unknown> dtype=resource>, <tf.Tensor 'unknown_282:0' shape=<unknown> dtype=resource>, <tf.Tensor 'unknown_283:0' shape=<unknown> dtype=resource>, <tf.Tensor 'unknown_284:0' shape=<unknown> dtype=resource>, <tf.Tensor 'unknown_285:0' shape=<unknown> dtype=resource>, <tf.Tensor 'unknown_286:0' shape=<unknown> dtype=resource>, <tf.Tensor 'unknown_287:0' shape=<unknown> dtype=resource>, <tf.Tensor 'unknown_288:0' shape=<unknown> dtype=resource>, <tf.Tensor 'unknown_289:0' shape=<unknown> dtype=resource>, <tf.Tensor 'unknown_290:0' shape=(2,) dtype=float32>, <tf.Tensor 'unknown_291:0' shape=(2,) dtype=float32>, <tf.Tensor 'unknown_292:0' shape=(2,) dtype=float32>, <tf.Tensor 'unknown_293:0' shape=(2,) dtype=float32>, <tf.Tensor 'unknown_294:0' shape=(2,) dtype=float32>, <tf.Tensor 'unknown_295:0' shape=(2,) dtype=float32>, <tf.Tensor 'unknown_296:0' shape=(2,) dtype=float32>, <tf.Tensor 'unknown_297:0' shape=(2,) dtype=float32>, <tf.Tensor 'unknown_298:0' shape=(2,) dtype=float32>, <tf.Tensor 'unknown_299:0' shape=(2,) dtype=float32>, <tf.Tensor 'unknown_300:0' shape=(2,) dtype=float32>, <tf.Tensor 'unknown_301:0' shape=(2,) dtype=float32>, <tf.Tensor 'unknown_302:0' shape=(2,) dtype=float32>, <tf.Tensor 'unknown_303:0' shape=(2,) dtype=float32>, <tf.Tensor 'unknown_304:0' shape=(2,) dtype=float32>, <tf.Tensor 'unknown_305:0' shape=<unknown> dtype=resource>, <tf.Tensor 'unknown_306:0' shape=<unknown> dtype=resource>, <tf.Tensor 'unknown_307:0' shape=<unknown> dtype=resource>, <tf.Tensor 'unknown_308:0' shape=<unknown> dtype=resource>, <tf.Tensor 'unknown_309:0' shape=<unknown> dtype=resource>, <tf.Tensor 'unknown_310:0' shape=<unknown> dtype=resource>, <tf.Tensor 'unknown_311:0' shape=<unknown> dtype=resource>, <tf.Tensor 'unknown_312:0' shape=<unknown> dtype=resource>, <tf.Tensor 'unknown_313:0' shape=<unknown> dtype=resource>, <tf.Tensor 'unknown_314:0' shape=<unknown> dtype=resource>, <tf.Tensor 'unknown_315:0' shape=<unknown> dtype=resource>, <tf.Tensor 'unknown_316:0' shape=<unknown> dtype=resource>, <tf.Tensor 'unknown_317:0' shape=<unknown> dtype=resource>, <tf.Tensor 'unknown_318:0' shape=<unknown> dtype=resource>, <tf.Tensor 'unknown_319:0' shape=<unknown> dtype=resource>, <tf.Tensor 'unknown_320:0' shape=<unknown> dtype=resource>, <tf.Tensor 'unknown_321:0' shape=<unknown> dtype=resource>, <tf.Tensor 'unknown_322:0' shape=<unknown> dtype=resource>, <tf.Tensor 'unknown_323:0' shape=<unknown> dtype=resource>, <tf.Tensor 'unknown_324:0' shape=<unknown> dtype=resource>, <tf.Tensor 'unknown_325:0' shape=<unknown> dtype=resource>, <tf.Tensor 'unknown_326:0' shape=<unknown> dtype=resource>, <tf.Tensor 'unknown_327:0' shape=<unknown> dtype=resource>, <tf.Tensor 'unknown_328:0' shape=<unknown> dtype=resource>, <tf.Tensor 'unknown_329:0' shape=<unknown> dtype=resource>, <tf.Tensor 'unknown_330:0' shape=<unknown> dtype=resource>, <tf.Tensor 'unknown_331:0' shape=<unknown> dtype=resource>, <tf.Tensor 'unknown_332:0' shape=<unknown> dtype=resource>, <tf.Tensor 'unknown_333:0' shape=<unknown> dtype=resource>, <tf.Tensor 'unknown_334:0' shape=<unknown> dtype=resource>, <tf.Tensor 'unknown_335:0' shape=<unknown> dtype=resource>, <tf.Tensor 'unknown_336:0' shape=<unknown> dtype=resource>, <tf.Tensor 'unknown_337:0' shape=<unknown> dtype=resource>, <tf.Tensor 'unknown_338:0' shape=<unknown> dtype=resource>, <tf.Tensor 'unknown_339:0' shape=<unknown> dtype=resource>, <tf.Tensor 'unknown_340:0' shape=<unknown> dtype=resource>, <tf.Tensor 'unknown_341:0' shape=<unknown> dtype=resource>, <tf.Tensor 'unknown_342:0' shape=<unknown> dtype=resource>, <tf.Tensor 'unknown_343:0' shape=<unknown> dtype=resource>, <tf.Tensor 'unknown_344:0' shape=<unknown> dtype=resource>, <tf.Tensor 'unknown_345:0' shape=<unknown> dtype=resource>, <tf.Tensor 'unknown_346:0' shape=<unknown> dtype=resource>, <tf.Tensor 'unknown_347:0' shape=<unknown> dtype=resource>, <tf.Tensor 'unknown_348:0' shape=<unknown> dtype=resource>, <tf.Tensor 'unknown_349:0' shape=<unknown> dtype=resource>, <tf.Tensor 'unknown_350:0' shape=<unknown> dtype=resource>, <tf.Tensor 'unknown_351:0' shape=<unknown> dtype=resource>, <tf.Tensor 'unknown_352:0' shape=<unknown> dtype=resource>, <tf.Tensor 'unknown_353:0' shape=<unknown> dtype=resource>, <tf.Tensor 'unknown_354:0' shape=<unknown> dtype=resource>, <tf.Tensor 'unknown_355:0' shape=<unknown> dtype=resource>, <tf.Tensor 'unknown_356:0' shape=<unknown> dtype=resource>, <tf.Tensor 'unknown_357:0' shape=<unknown> dtype=resource>, <tf.Tensor 'unknown_358:0' shape=<unknown> dtype=resource>, <tf.Tensor 'unknown_359:0' shape=<unknown> dtype=resource>, <tf.Tensor 'unknown_360:0' shape=<unknown> dtype=resource>, <tf.Tensor 'unknown_361:0' shape=<unknown> dtype=resource>, <tf.Tensor 'unknown_362:0' shape=<unknown> dtype=resource>, <tf.Tensor 'unknown_363:0' shape=<unknown> dtype=resource>, <tf.Tensor 'unknown_364:0' shape=<unknown> dtype=resource>, <tf.Tensor 'unknown_365:0' shape=<unknown> dtype=resource>, <tf.Tensor 'unknown_366:0' shape=<unknown> dtype=resource>, <tf.Tensor 'unknown_367:0' shape=<unknown> dtype=resource>, <tf.Tensor 'unknown_368:0' shape=<unknown> dtype=resource>, <tf.Tensor 'unknown_369:0' shape=<unknown> dtype=resource>, <tf.Tensor 'unknown_370:0' shape=<unknown> dtype=resource>, <tf.Tensor 'unknown_371:0' shape=<unknown> dtype=resource>, <tf.Tensor 'unknown_372:0' shape=<unknown> dtype=resource>, <tf.Tensor 'unknown_373:0' shape=<unknown> dtype=resource>, <tf.Tensor 'unknown_374:0' shape=<unknown> dtype=resource>, <tf.Tensor 'unknown_375:0' shape=<unknown> dtype=resource>, <tf.Tensor 'unknown_376:0' shape=<unknown> dtype=resource>, <tf.Tensor 'unknown_377:0' shape=<unknown> dtype=resource>, <tf.Tensor 'unknown_378:0' shape=<unknown> dtype=resource>, <tf.Tensor 'unknown_379:0' shape=<unknown> dtype=resource>, <tf.Tensor 'unknown_380:0' shape=<unknown> dtype=resource>, <tf.Tensor 'unknown_381:0' shape=<unknown> dtype=resource>, <tf.Tensor 'unknown_382:0' shape=<unknown> dtype=resource>, <tf.Tensor 'unknown_383:0' shape=<unknown> dtype=resource>, <tf.Tensor 'unknown_384:0' shape=<unknown> dtype=resource>, <tf.Tensor 'unknown_385:0' shape=<unknown> dtype=resource>, <tf.Tensor 'unknown_386:0' shape=<unknown> dtype=resource>, <tf.Tensor 'unknown_387:0' shape=<unknown> dtype=resource>, <tf.Tensor 'unknown_388:0' shape=<unknown> dtype=resource>, <tf.Tensor 'unknown_389:0' shape=<unknown> dtype=resource>, <tf.Tensor 'unknown_390:0' shape=<unknown> dtype=resource>, <tf.Tensor 'unknown_391:0' shape=<unknown> dtype=resource>, <tf.Tensor 'unknown_392:0' shape=<unknown> dtype=resource>, <tf.Tensor 'unknown_393:0' shape=<unknown> dtype=resource>, <tf.Tensor 'unknown_394:0' shape=<unknown> dtype=resource>, <tf.Tensor 'unknown_395:0' shape=<unknown> dtype=resource>, <tf.Tensor 'unknown_396:0' shape=<unknown> dtype=resource>, <tf.Tensor 'unknown_397:0' shape=<unknown> dtype=resource>, <tf.Tensor 'unknown_398:0' shape=<unknown> dtype=resource>, <tf.Tensor 'unknown_399:0' shape=<unknown> dtype=resource>, <tf.Tensor 'unknown_400:0' shape=<unknown> dtype=resource>, <tf.Tensor 'unknown_401:0' shape=<unknown> dtype=resource>, <tf.Tensor 'unknown_402:0' shape=<unknown> dtype=resource>, <tf.Tensor 'unknown_403:0' shape=<unknown> dtype=resource>, <tf.Tensor 'unknown_404:0' shape=<unknown> dtype=resource>, <tf.Tensor 'unknown_405:0' shape=<unknown> dtype=resource>, <tf.Tensor 'unknown_406:0' shape=<unknown> dtype=resource>, <tf.Tensor 'unknown_407:0' shape=<unknown> dtype=resource>, <tf.Tensor 'unknown_408:0' shape=<unknown> dtype=resource>, <tf.Tensor 'unknown_409:0' shape=<unknown> dtype=resource>, <tf.Tensor 'unknown_410:0' shape=<unknown> dtype=resource>, <tf.Tensor 'unknown_411:0' shape=<unknown> dtype=resource>, <tf.Tensor 'unknown_412:0' shape=<unknown> dtype=resource>, <tf.Tensor 'unknown_413:0' shape=<unknown> dtype=resource>, <tf.Tensor 'unknown_414:0' shape=<unknown> dtype=resource>, <tf.Tensor 'unknown_415:0' shape=<unknown> dtype=resource>, <tf.Tensor 'unknown_416:0' shape=<unknown> dtype=resource>, <tf.Tensor 'unknown_417:0' shape=<unknown> dtype=resource>, <tf.Tensor 'unknown_418:0' shape=<unknown> dtype=resource>, <tf.Tensor 'unknown_419:0' shape=<unknown> dtype=resource>, <tf.Tensor 'unknown_420:0' shape=<unknown> dtype=resource>, <tf.Tensor 'unknown_421:0' shape=<unknown> dtype=resource>, <tf.Tensor 'unknown_422:0' shape=<unknown> dtype=resource>, <tf.Tensor 'unknown_423:0' shape=<unknown> dtype=resource>, <tf.Tensor 'unknown_424:0' shape=<unknown> dtype=resource>, <tf.Tensor 'unknown_425:0' shape=<unknown> dtype=resource>, <tf.Tensor 'unknown_426:0' shape=<unknown> dtype=resource>, <tf.Tensor 'unknown_427:0' shape=<unknown> dtype=resource>, <tf.Tensor 'unknown_428:0' shape=<unknown> dtype=resource>, <tf.Tensor 'unknown_429:0' shape=<unknown> dtype=resource>, <tf.Tensor 'unknown_430:0' shape=<unknown> dtype=resource>, <tf.Tensor 'unknown_431:0' shape=<unknown> dtype=resource>, <tf.Tensor 'unknown_432:0' shape=<unknown> dtype=resource>, <tf.Tensor 'unknown_433:0' shape=<unknown> dtype=resource>, <tf.Tensor 'unknown_434:0' shape=<unknown> dtype=resource>, <tf.Tensor 'unknown_435:0' shape=<unknown> dtype=resource>, <tf.Tensor 'unknown_436:0' shape=<unknown> dtype=resource>, <tf.Tensor 'unknown_437:0' shape=<unknown> dtype=resource>, <tf.Tensor 'unknown_438:0' shape=<unknown> dtype=resource>, <tf.Tensor 'unknown_439:0' shape=<unknown> dtype=resource>, <tf.Tensor 'unknown_440:0' shape=<unknown> dtype=resource>, <tf.Tensor 'unknown_441:0' shape=<unknown> dtype=resource>, <tf.Tensor 'unknown_442:0' shape=<unknown> dtype=resource>, <tf.Tensor 'unknown_443:0' shape=<unknown> dtype=resource>, <tf.Tensor 'unknown_444:0' shape=<unknown> dtype=resource>, <tf.Tensor 'unknown_445:0' shape=<unknown> dtype=resource>, <tf.Tensor 'unknown_446:0' shape=<unknown> dtype=resource>, <tf.Tensor 'unknown_447:0' shape=<unknown> dtype=resource>, <tf.Tensor 'unknown_448:0' shape=<unknown> dtype=resource>, <tf.Tensor 'unknown_449:0' shape=<unknown> dtype=resource>, <tf.Tensor 'unknown_450:0' shape=<unknown> dtype=resource>, <tf.Tensor 'unknown_451:0' shape=<unknown> dtype=resource>, <tf.Tensor 'unknown_452:0' shape=<unknown> dtype=resource>, <tf.Tensor 'unknown_453:0' shape=<unknown> dtype=resource>, <tf.Tensor 'unknown_454:0' shape=<unknown> dtype=resource>, <tf.Tensor 'unknown_455:0' shape=<unknown> dtype=resource>, <tf.Tensor 'unknown_456:0' shape=<unknown> dtype=resource>, <tf.Tensor 'unknown_457:0' shape=<unknown> dtype=resource>, <tf.Tensor 'unknown_458:0' shape=<unknown> dtype=resource>, <tf.Tensor 'unknown_459:0' shape=<unknown> dtype=resource>, <tf.Tensor 'unknown_460:0' shape=<unknown> dtype=resource>, <tf.Tensor 'unknown_461:0' shape=<unknown> dtype=resource>, <tf.Tensor 'unknown_462:0' shape=<unknown> dtype=resource>, <tf.Tensor 'unknown_463:0' shape=<unknown> dtype=resource>, <tf.Tensor 'unknown_464:0' shape=<unknown> dtype=resource>, <tf.Tensor 'unknown_465:0' shape=<unknown> dtype=resource>, <tf.Tensor 'unknown_466:0' shape=<unknown> dtype=resource>, <tf.Tensor 'unknown_467:0' shape=<unknown> dtype=resource>, <tf.Tensor 'unknown_468:0' shape=<unknown> dtype=resource>, <tf.Tensor 'unknown_469:0' shape=<unknown> dtype=resource>, <tf.Tensor 'unknown_470:0' shape=<unknown> dtype=resource>, <tf.Tensor 'unknown_471:0' shape=<unknown> dtype=resource>, <tf.Tensor 'unknown_472:0' shape=<unknown> dtype=resource>, <tf.Tensor 'unknown_473:0' shape=<unknown> dtype=resource>, <tf.Tensor 'unknown_474:0' shape=<unknown> dtype=resource>, <tf.Tensor 'unknown_475:0' shape=<unknown> dtype=resource>, <tf.Tensor 'unknown_476:0' shape=<unknown> dtype=resource>]\n"
          ]
        }
      ]
    },
    {
      "cell_type": "markdown",
      "metadata": {
        "id": "LqNDvdryRBPy"
      },
      "source": [
        "\n",
        "\n",
        "```\n",
        "# This is formatted as code\n",
        "```\n",
        "\n",
        "And retuns several outputs:"
      ]
    },
    {
      "cell_type": "code",
      "metadata": {
        "colab": {
          "base_uri": "https://localhost:8080/"
        },
        "id": "dKhksxk1RDEn",
        "outputId": "40113c25-7504-403c-c648-3576f00692ac"
      },
      "source": [
        "detection_model.output_dtypes"
      ],
      "execution_count": null,
      "outputs": [
        {
          "output_type": "execute_result",
          "data": {
            "text/plain": [
              "{'detection_anchor_indices': tf.float32,\n",
              " 'detection_boxes': tf.float32,\n",
              " 'detection_classes': tf.float32,\n",
              " 'detection_multiclass_scores': tf.float32,\n",
              " 'detection_scores': tf.float32,\n",
              " 'num_detections': tf.float32,\n",
              " 'raw_detection_boxes': tf.float32,\n",
              " 'raw_detection_scores': tf.float32}"
            ]
          },
          "metadata": {},
          "execution_count": 87
        }
      ]
    },
    {
      "cell_type": "code",
      "metadata": {
        "id": "IOBIdgHyREc4"
      },
      "source": [
        "detection_model.output_shapes"
      ],
      "execution_count": null,
      "outputs": []
    },
    {
      "cell_type": "markdown",
      "metadata": {
        "id": "iSzWfz6WRG0O"
      },
      "source": [
        "[link text](https://)Add a wrapper function to call the model, and cleanup the outputs:"
      ]
    },
    {
      "cell_type": "code",
      "metadata": {
        "id": "yMNDivp7RJKU"
      },
      "source": [
        "def run_inference_for_single_image(model, image):\n",
        "    image = np.asarray(image)\n",
        "    # The input needs to be a tensor, convert it using `tf.convert_to_tensor`.\n",
        "    input_tensor = tf.convert_to_tensor(image)\n",
        "    # The model expects a batch of images, so add an axis with `tf.newaxis`.\n",
        "    input_tensor = input_tensor[tf.newaxis,...]\n",
        "    \n",
        "    # Run inference\n",
        "    output_dict = model(input_tensor)\n",
        "\n",
        "    # All outputs are batches tensors.\n",
        "    # Convert to numpy arrays, and take index [0] to remove the batch dimension.\n",
        "    # We're only interested in the first num_detections.\n",
        "    num_detections = int(output_dict.pop('num_detections'))\n",
        "    output_dict = {key:value[0, :num_detections].numpy() \n",
        "                   for key,value in output_dict.items()}\n",
        "    output_dict['num_detections'] = num_detections\n",
        "\n",
        "    # detection_classes should be ints.\n",
        "    output_dict['detection_classes'] = output_dict['detection_classes'].astype(np.int64)\n",
        "   \n",
        "    # Handle models with masks:\n",
        "    if 'detection_masks' in output_dict:\n",
        "        # Reframe the the bbox mask to the image size.\n",
        "        detection_masks_reframed = utils_ops.reframe_box_masks_to_image_masks(\n",
        "                                    output_dict['detection_masks'], output_dict['detection_boxes'],\n",
        "                                    image.shape[0], image.shape[1])      \n",
        "        detection_masks_reframed = tf.cast(detection_masks_reframed > 0.5, tf.uint8)\n",
        "        output_dict['detection_masks_reframed'] = detection_masks_reframed.numpy()\n",
        "    \n",
        "    return output_dict"
      ],
      "execution_count": null,
      "outputs": []
    },
    {
      "cell_type": "code",
      "metadata": {
        "id": "XGm0B3o1RK3Y"
      },
      "source": [
        "import cv2\n",
        "cap = cv2.VideoCapture(0) # or cap = cv2.VideoCapture(\"<video-path>\")\n",
        "\n",
        "def run_inference(model, cap):\n",
        "    while cap.isOpened():\n",
        "        ret, image_np = cap.read()\n",
        "        # Actual detection.\n",
        "        output_dict = run_inference_for_single_image(model, image_np)\n",
        "        # Visualization of the results of a detection.\n",
        "        vis_util.visualize_boxes_and_labels_on_image_array(\n",
        "            image_np,\n",
        "            output_dict['detection_boxes'],\n",
        "            output_dict['detection_classes'],\n",
        "            output_dict['detection_scores'],\n",
        "            category_index,\n",
        "            instance_masks=output_dict.get('detection_masks_reframed', None),\n",
        "            use_normalized_coordinates=True,\n",
        "            line_thickness=8)\n",
        "        cv2.imshow('object_detection', cv2.resize(image_np, (800, 600)))\n",
        "        if cv2.waitKey(25) & 0xFF == ord('q'):\n",
        "            cap.release()\n",
        "            cv2.destroyAllWindows()\n",
        "            break\n",
        "\n",
        "run_inference(detection_model, cap)"
      ],
      "execution_count": null,
      "outputs": []
    },
    {
      "cell_type": "code",
      "metadata": {
        "id": "6w5hwVbxVqaP"
      },
      "source": [
        ""
      ],
      "execution_count": null,
      "outputs": []
    },
    {
      "cell_type": "code",
      "metadata": {
        "colab": {
          "base_uri": "https://localhost:8080/",
          "height": 128
        },
        "id": "0IsQPQtgVHrw",
        "outputId": "a2fdf553-2a63-4302-8c6c-d0cc49e8ecaf"
      },
      "source": [
        "python vehicle_counting.py"
      ],
      "execution_count": null,
      "outputs": [
        {
          "output_type": "error",
          "ename": "SyntaxError",
          "evalue": "ignored",
          "traceback": [
            "\u001b[0;36m  File \u001b[0;32m\"<ipython-input-3-956b5a950daf>\"\u001b[0;36m, line \u001b[0;32m1\u001b[0m\n\u001b[0;31m    python vehicle_counting.py\u001b[0m\n\u001b[0m                          ^\u001b[0m\n\u001b[0;31mSyntaxError\u001b[0m\u001b[0;31m:\u001b[0m invalid syntax\n"
          ]
        }
      ]
    },
    {
      "cell_type": "code",
      "metadata": {
        "id": "bp3WDTgTWUiE"
      },
      "source": [
        ""
      ],
      "execution_count": null,
      "outputs": []
    }
  ]
}